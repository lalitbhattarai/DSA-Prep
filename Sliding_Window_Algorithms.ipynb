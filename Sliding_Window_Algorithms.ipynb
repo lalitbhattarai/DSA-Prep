{
  "nbformat": 4,
  "nbformat_minor": 0,
  "metadata": {
    "colab": {
      "provenance": [],
      "authorship_tag": "ABX9TyP/weChuZtVlG14+1Ex+mqQ",
      "include_colab_link": true
    },
    "kernelspec": {
      "name": "python3",
      "display_name": "Python 3"
    },
    "language_info": {
      "name": "python"
    }
  },
  "cells": [
    {
      "cell_type": "markdown",
      "metadata": {
        "id": "view-in-github",
        "colab_type": "text"
      },
      "source": [
        "<a href=\"https://colab.research.google.com/github/lalitbhattarai/DSA-Prep/blob/main/Sliding_Window_Algorithms.ipynb\" target=\"_parent\"><img src=\"https://colab.research.google.com/assets/colab-badge.svg\" alt=\"Open In Colab\"/></a>"
      ]
    },
    {
      "cell_type": "markdown",
      "source": [
        "#Sliding window Algorithm"
      ],
      "metadata": {
        "id": "Ld64lB5aYCEM"
      }
    },
    {
      "cell_type": "markdown",
      "source": [
        "Sliding Window is used to optimize problems involving subarrays or substrings, reducing time complexity from O(n²) to O(n) in many cases.\n",
        "\n",
        "Two types: Fixed-size window (e.g., maximum sum of k consecutive elements) and Variable-size window (e.g., longest substring without repeating characters).\n",
        "\n",
        "Common problems include: Finding maximum/minimum sum subarrays, longest substring with unique characters, and smallest subarray sum ≥ target.\n",
        "\n",
        "Efficient approach: Instead of recalculating sums/subarrays from scratch, adjust the window by adding/removing elements dynamically."
      ],
      "metadata": {
        "id": "1H7Z1AvQYnZ5"
      }
    },
    {
      "cell_type": "markdown",
      "source": [
        "There are two types in sliding window problem:\n",
        "\n",
        "Fixed Length   k=3\n",
        "\n",
        "Variable length"
      ],
      "metadata": {
        "id": "ZMVbZRBsZOjH"
      }
    },
    {
      "cell_type": "markdown",
      "source": [
        "# 1 :)  Variable Length  Sliding window\n",
        "  Time complexity :O(n)\n",
        "\n",
        "  space Complexity: O(n)"
      ],
      "metadata": {
        "id": "Ps6_UqNegbO9"
      }
    },
    {
      "cell_type": "code",
      "source": [
        "s=\"abcabcbb\""
      ],
      "metadata": {
        "id": "MMEQCud1ZuMp"
      },
      "execution_count": 4,
      "outputs": []
    },
    {
      "cell_type": "code",
      "source": [
        "def sliding_window(s):\n",
        "  l=0\n",
        "  longest=0\n",
        "  sett =set()\n",
        "  n=len(s)\n",
        "\n",
        "  for r in range(n):\n",
        "    while s[r] in sett:\n",
        "      sett.remove(s[r])\n",
        "      l+=1\n",
        "\n",
        "    w=(r-l) +1\n",
        "    longest=max(longest,w)\n",
        "    sett.add(s[r])\n",
        "\n",
        "  return longest\n",
        "\n",
        "\n",
        "print(sliding_window(s))"
      ],
      "metadata": {
        "colab": {
          "base_uri": "https://localhost:8080/"
        },
        "id": "-D4af1lSZf35",
        "outputId": "78ed10a7-6026-4d15-dd38-293ed4281369"
      },
      "execution_count": 5,
      "outputs": [
        {
          "output_type": "stream",
          "name": "stdout",
          "text": [
            "3\n"
          ]
        }
      ]
    },
    {
      "cell_type": "code",
      "source": [
        "values=\"mhfdyuewf\""
      ],
      "metadata": {
        "id": "oc9wzU6EfRJE"
      },
      "execution_count": 6,
      "outputs": []
    },
    {
      "cell_type": "code",
      "source": [
        "def sliding_window1(values):\n",
        "  l=0\n",
        "  longest=0\n",
        "  sett=set()\n",
        "  n=len(values)\n",
        "\n",
        "\n",
        "  for i in range(n):\n",
        "    while values[i] in sett:\n",
        "      sett.remove(values[i])\n",
        "      l+=1\n",
        "\n",
        "    w=(i-l) +1\n",
        "    longest=max(longest,w)\n",
        "    sett.add(values[i])\n",
        "\n",
        "\n",
        "  return longest\n",
        "\n",
        "print(sliding_window1(values))"
      ],
      "metadata": {
        "colab": {
          "base_uri": "https://localhost:8080/"
        },
        "id": "XykJXxEUeV3K",
        "outputId": "f2cbbd85-afe2-43a9-ef7b-795c4eb09607"
      },
      "execution_count": 7,
      "outputs": [
        {
          "output_type": "stream",
          "name": "stdout",
          "text": [
            "8\n"
          ]
        }
      ]
    },
    {
      "cell_type": "markdown",
      "source": [
        "#Leetcode no 3"
      ],
      "metadata": {
        "id": "IrOriDD9viAe"
      }
    },
    {
      "cell_type": "markdown",
      "source": [
        "#3. Longest Substring Without Repeating Characters\n",
        "\n",
        "Given a string s, find the length of the longest substring without duplicate characters.\n",
        "\n",
        "\n",
        "\n",
        "Example 1:\n",
        "\n",
        "Input: s = \"abcabcbb\"\n",
        "Output: 3\n",
        "Explanation: The answer is \"abc\", with the length of 3."
      ],
      "metadata": {
        "id": "kbqDl0Cqvk2z"
      }
    },
    {
      "cell_type": "code",
      "source": [
        "s = \"abcabcbb\"\n",
        "class Solution:\n",
        "    def lengthOfLongestSubstring(self, s: str) -> int:\n",
        "      l=0\n",
        "      longest=0\n",
        "      sett=set()\n",
        "      n=len(s)\n",
        "\n",
        "      for r in range(n):\n",
        "        while s[r] in sett:\n",
        "          sett.remove(s[l])\n",
        "          l+=1\n",
        "\n",
        "\n",
        "        w=(r-l) +1\n",
        "        longest=max(longest,w)\n",
        "        sett.add(s[r])\n",
        "\n",
        "      return longest\n",
        "\n",
        "\n",
        "\n",
        ""
      ],
      "metadata": {
        "id": "fFT2p71svufY"
      },
      "execution_count": 12,
      "outputs": []
    },
    {
      "cell_type": "markdown",
      "source": [
        " #  2 :) Fixed length Sliding window"
      ],
      "metadata": {
        "id": "kv0RR2MBg-Id"
      }
    },
    {
      "cell_type": "code",
      "source": [
        "def fixed_length_window(nums, k):\n",
        "    n = len(nums)\n",
        "    cur_sum = sum(nums[:k])  # Initialize sum of first k elements\n",
        "    max_avg = cur_sum / k\n",
        "\n",
        "    for i in range(k, n):\n",
        "        cur_sum += nums[i] - nums[i - k]  # Sliding window update\n",
        "        avg = cur_sum / k\n",
        "        max_avg = max(max_avg, avg)\n",
        "\n",
        "    return max_avg\n",
        "\n",
        "nums = [2, 4, 6, 8, 9, 33, 22]\n",
        "k = 4\n",
        "print(fixed_length_window(nums, k))\n"
      ],
      "metadata": {
        "id": "IwCpbD8fhZGO",
        "colab": {
          "base_uri": "https://localhost:8080/"
        },
        "outputId": "feda4797-fbbf-4165-e20b-1af643b956b5"
      },
      "execution_count": 17,
      "outputs": [
        {
          "output_type": "stream",
          "name": "stdout",
          "text": [
            "18.0\n"
          ]
        }
      ]
    },
    {
      "cell_type": "code",
      "source": [],
      "metadata": {
        "id": "XSgI3AKP1jEw"
      },
      "execution_count": 15,
      "outputs": []
    },
    {
      "cell_type": "code",
      "source": [],
      "metadata": {
        "id": "wx8drHk62D-l"
      },
      "execution_count": null,
      "outputs": []
    }
  ]
}