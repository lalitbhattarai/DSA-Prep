{
  "nbformat": 4,
  "nbformat_minor": 0,
  "metadata": {
    "colab": {
      "provenance": [],
      "authorship_tag": "ABX9TyOlUTU/qiO/R6gGoOsTPhmj",
      "include_colab_link": true
    },
    "kernelspec": {
      "name": "python3",
      "display_name": "Python 3"
    },
    "language_info": {
      "name": "python"
    }
  },
  "cells": [
    {
      "cell_type": "markdown",
      "metadata": {
        "id": "view-in-github",
        "colab_type": "text"
      },
      "source": [
        "<a href=\"https://colab.research.google.com/github/lalitbhattarai/DSA-Prep/blob/main/Sliding_Window_Algorithms.ipynb\" target=\"_parent\"><img src=\"https://colab.research.google.com/assets/colab-badge.svg\" alt=\"Open In Colab\"/></a>"
      ]
    },
    {
      "cell_type": "markdown",
      "source": [
        "#Sliding window Algorithm"
      ],
      "metadata": {
        "id": "Ld64lB5aYCEM"
      }
    },
    {
      "cell_type": "markdown",
      "source": [
        "Sliding Window is used to optimize problems involving subarrays or substrings, reducing time complexity from O(n²) to O(n) in many cases.\n",
        "\n",
        "Two types: Fixed-size window (e.g., maximum sum of k consecutive elements) and Variable-size window (e.g., longest substring without repeating characters).\n",
        "\n",
        "Common problems include: Finding maximum/minimum sum subarrays, longest substring with unique characters, and smallest subarray sum ≥ target.\n",
        "\n",
        "Efficient approach: Instead of recalculating sums/subarrays from scratch, adjust the window by adding/removing elements dynamically."
      ],
      "metadata": {
        "id": "1H7Z1AvQYnZ5"
      }
    },
    {
      "cell_type": "markdown",
      "source": [
        "There are two types in sliding window problem:\n",
        "\n",
        "Fixed Length   k=3\n",
        "\n",
        "Variable length"
      ],
      "metadata": {
        "id": "ZMVbZRBsZOjH"
      }
    },
    {
      "cell_type": "markdown",
      "source": [
        "# 1 :)  Variable Length  Sliding window\n",
        "  Time complexity :O(n)\n",
        "\n",
        "  space Complexity: O(n)"
      ],
      "metadata": {
        "id": "Ps6_UqNegbO9"
      }
    },
    {
      "cell_type": "code",
      "source": [
        "s=\"abcabcbb\""
      ],
      "metadata": {
        "id": "MMEQCud1ZuMp"
      },
      "execution_count": null,
      "outputs": []
    },
    {
      "cell_type": "code",
      "source": [
        "def sliding_window(s):\n",
        "  l=0\n",
        "  longest=0\n",
        "  sett =set()\n",
        "  n=len(s)\n",
        "\n",
        "  for r in range(n):\n",
        "    while s[r] in sett:\n",
        "      sett.remove(s[r])\n",
        "      l+=1\n",
        "\n",
        "    w=(r-l) +1\n",
        "    longest=max(longest,w)\n",
        "    sett.add(s[r])\n",
        "\n",
        "  return longest\n",
        "\n",
        "\n",
        "print(sliding_window(s))"
      ],
      "metadata": {
        "colab": {
          "base_uri": "https://localhost:8080/"
        },
        "id": "-D4af1lSZf35",
        "outputId": "04db93ee-2f6b-4015-b13a-a882a82b84cf"
      },
      "execution_count": null,
      "outputs": [
        {
          "output_type": "stream",
          "name": "stdout",
          "text": [
            "3\n"
          ]
        }
      ]
    },
    {
      "cell_type": "code",
      "source": [
        "values=\"mhfdyuewf\""
      ],
      "metadata": {
        "id": "oc9wzU6EfRJE"
      },
      "execution_count": null,
      "outputs": []
    },
    {
      "cell_type": "code",
      "source": [
        "def sliding_window1(values):\n",
        "  l=0\n",
        "  longest=0\n",
        "  sett=set()\n",
        "  n=len(values)\n",
        "\n",
        "\n",
        "  for i in range(n):\n",
        "    while values[i] in sett:\n",
        "      sett.remove(values[i])\n",
        "      l+=1\n",
        "\n",
        "    w=(i-l) +1\n",
        "    longest=max(longest,w)\n",
        "    sett.add(values[i])\n",
        "\n",
        "\n",
        "  return longest\n",
        "\n",
        "print(sliding_window1(values))"
      ],
      "metadata": {
        "colab": {
          "base_uri": "https://localhost:8080/"
        },
        "id": "XykJXxEUeV3K",
        "outputId": "e9693116-55cd-4540-dbb9-318d2c33bb84"
      },
      "execution_count": null,
      "outputs": [
        {
          "output_type": "stream",
          "name": "stdout",
          "text": [
            "8\n"
          ]
        }
      ]
    },
    {
      "cell_type": "markdown",
      "source": [
        " #  2 :) Fixed length Sliding window"
      ],
      "metadata": {
        "id": "kv0RR2MBg-Id"
      }
    },
    {
      "cell_type": "code",
      "source": [],
      "metadata": {
        "id": "IwCpbD8fhZGO"
      },
      "execution_count": null,
      "outputs": []
    }
  ]
}