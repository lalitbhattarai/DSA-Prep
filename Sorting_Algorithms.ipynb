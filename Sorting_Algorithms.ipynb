{
  "nbformat": 4,
  "nbformat_minor": 0,
  "metadata": {
    "colab": {
      "provenance": [],
      "gpuType": "T4",
      "authorship_tag": "ABX9TyNnQMQyps3GYAhyOMgk4EcE",
      "include_colab_link": true
    },
    "kernelspec": {
      "name": "python3",
      "display_name": "Python 3"
    },
    "language_info": {
      "name": "python"
    }
  },
  "cells": [
    {
      "cell_type": "markdown",
      "metadata": {
        "id": "view-in-github",
        "colab_type": "text"
      },
      "source": [
        "<a href=\"https://colab.research.google.com/github/lalitbhattarai/DSA-Prep/blob/main/Sorting_Algorithms.ipynb\" target=\"_parent\"><img src=\"https://colab.research.google.com/assets/colab-badge.svg\" alt=\"Open In Colab\"/></a>"
      ]
    },
    {
      "cell_type": "markdown",
      "source": [
        "# Merge sort\n",
        "\n",
        "It is a algorithms that works on divide and concure methos\n",
        "\n",
        "\n",
        "1. Divide and concure\n",
        "* The problems are divided into subprograms recursively until they become simple and solve\n",
        "* Solution are combined to solve orginal problem\n",
        "\n",
        "2. O(n *log(n0)) Running time\n",
        "* optimal running time for comparision based algorithms\n"
      ],
      "metadata": {
        "id": "LSIvcGys840o"
      }
    },
    {
      "cell_type": "markdown",
      "source": [
        "## General principle\n",
        "1. split array in half\n",
        "2. call merge sort on each half them recursively\n",
        "3. Merge both sorted halves into one sorted array\n"
      ],
      "metadata": {
        "id": "-CWBOuJTPzkE"
      }
    },
    {
      "cell_type": "markdown",
      "source": [
        "a= [2,1,7,9,2,0]   this  is given array\n",
        "\n",
        "now we, divide this array into multiples array\n",
        "\n",
        "[2,1,7]    [9,2,0]\n",
        "\n",
        "\n",
        "We divide this into further to simplify this\n",
        "\n",
        "[2,1,7 is divided into ]\n",
        "\n",
        "[2]   [1,7]      and for [9,2,0]   this is  [9]  [2,0]\n",
        "\n",
        "furthr\n",
        "\n",
        "[2] [1] [7] [9] [2] [0]"
      ],
      "metadata": {
        "id": "frUOcKqgPvPS"
      }
    },
    {
      "cell_type": "code",
      "source": [
        "arr=[2,1,66,23,87,32,54,5,10,65]\n"
      ],
      "metadata": {
        "id": "vbkLK_a_XUvh"
      },
      "execution_count": 2,
      "outputs": []
    },
    {
      "cell_type": "code",
      "source": [
        "def merge_sort(arr):\n",
        "    if len(arr) > 1:\n",
        "        mid = len(arr) // 2\n",
        "        left_half = arr[:mid]\n",
        "        right_half = arr[mid:]\n",
        "\n",
        "        merge_sort(left_half)\n",
        "        merge_sort(right_half)\n",
        "\n",
        "      # Merging the sorted halves\n",
        "        i =0  #Left_arr index\n",
        "        j = 0 #Right_arr index\n",
        "        k = 0 # merge array index\n",
        "        while i < len(left_half) and j < len(right_half):\n",
        "            if left_half[i] < right_half[j]:\n",
        "                arr[k] = left_half[i]\n",
        "                i += 1\n",
        "            else:\n",
        "                arr[k] = right_half[j]\n",
        "                j += 1\n",
        "            k += 1\n",
        "\n",
        "      # Copy remaining elements from left half\n",
        "        while i < len(left_half):\n",
        "            arr[k] = left_half[i]\n",
        "            i += 1\n",
        "            k += 1\n",
        "\n",
        "      # Copy remaining elements from right half\n",
        "        while j < len(right_half):\n",
        "            arr[k] = right_half[j]\n",
        "            j += 1\n",
        "            k += 1\n",
        "\n",
        "\n",
        "merge_sort(arr)\n",
        "print(\"Sorted array:\", arr)\n"
      ],
      "metadata": {
        "colab": {
          "base_uri": "https://localhost:8080/"
        },
        "id": "mDMiuV_8RxbF",
        "outputId": "56218658-f5de-48ae-822f-99d6105e619d"
      },
      "execution_count": 3,
      "outputs": [
        {
          "output_type": "stream",
          "name": "stdout",
          "text": [
            "Sorted array: [1, 2, 5, 10, 23, 32, 54, 65, 66, 87]\n"
          ]
        }
      ]
    },
    {
      "cell_type": "code",
      "source": [
        "elements=[-9,32,5,2,3,21,-556,31212,6654,32]"
      ],
      "metadata": {
        "id": "JnwkTJCeXjsS"
      },
      "execution_count": 9,
      "outputs": []
    },
    {
      "cell_type": "code",
      "source": [
        "def merge_sort_1(elements):\n",
        "  if len(elements) <=1:\n",
        "   return elements\n",
        "\n",
        "\n",
        "  mid=len(elements) // 2\n",
        "  L=elements[:mid]\n",
        "  R=elements[mid:]\n",
        "\n",
        "  #Recursion\n",
        "  merge_sort_1(L)\n",
        "  merge_sort_1(R)\n",
        "\n",
        "  #Merging he elements of array Elements\n",
        "  i=j=k=0\n",
        "  while i<len(L) and j<len(R):\n",
        "    if L[i]<R[j]:\n",
        "      elements[k] =L[i]\n",
        "      i+=1\n",
        "\n",
        "    else:\n",
        "      elements[k]=R[j]\n",
        "      j+=1\n",
        "    k+=1\n",
        "\n",
        "\n",
        "  while i<len(L):\n",
        "    elements[k]=L[i]\n",
        "    i+=1\n",
        "    k+=1\n",
        "\n",
        "\n",
        "  while j <len(R):\n",
        "    elements[k] =R[j]\n",
        "    j+=1\n",
        "    k+=1\n",
        "\n",
        "\n",
        "merge_sort_1(elements)\n",
        "\n",
        "\n"
      ],
      "metadata": {
        "id": "c8r2LCmHZpSF"
      },
      "execution_count": 11,
      "outputs": []
    },
    {
      "cell_type": "code",
      "source": [
        "print(\"sorted elements are \",elements)"
      ],
      "metadata": {
        "colab": {
          "base_uri": "https://localhost:8080/"
        },
        "id": "9gYbG_wMcr5W",
        "outputId": "54b9f1e6-3dfa-403a-829a-301348350691"
      },
      "execution_count": 12,
      "outputs": [
        {
          "output_type": "stream",
          "name": "stdout",
          "text": [
            "sorted elements are  [-556, -9, 2, 3, 5, 21, 32, 32, 6654, 31212]\n"
          ]
        }
      ]
    },
    {
      "cell_type": "markdown",
      "source": [
        "#Leetcode Problems no 912(medium)"
      ],
      "metadata": {
        "id": "00FGlSRhjc80"
      }
    },
    {
      "cell_type": "markdown",
      "source": [
        "Given an array of integers nums, sort the array in ascending order and return it.\n",
        "\n",
        "You must solve the problem without using any built-in functions in O(nlog(n)) time complexity and with the smallest space complexity possible."
      ],
      "metadata": {
        "id": "77iG7Ah2jU0k"
      }
    },
    {
      "cell_type": "markdown",
      "source": [
        "Input: nums = [5,2,3,1]\n",
        "Output: [1,2,3,5]\n",
        "Explanation: After sorting the array, the positions of some numbers are not changed (for example, 2 and 3), while the positions of other numbers are changed (for example, 1 and 5)."
      ],
      "metadata": {
        "id": "-xXOO0K1jlaW"
      }
    },
    {
      "cell_type": "code",
      "source": [
        "nums = [5,2,3,1]\n",
        "class Solution:\n",
        "    def sortArray(self, nums):\n",
        "        if len(nums) <=1:\n",
        "            return nums\n",
        "\n",
        "        mid =len(nums)//2\n",
        "        left_half=nums[:mid]\n",
        "        right_half=nums[mid:]\n",
        "\n",
        "        #Recursion\n",
        "        self.sortArray(left_half)\n",
        "        self.sortArray(right_half)\n",
        "\n",
        "        #sorting the elements\n",
        "        i=j=k=0\n",
        "        while i < len(left_half) and j<len(right_half):\n",
        "            if left_half[i] < right_half[j]:\n",
        "                nums[k]=left_half[i]\n",
        "                i+=1\n",
        "                k+=1\n",
        "\n",
        "            else:\n",
        "                nums[k] =right_half[j]\n",
        "                j+=1\n",
        "                k+=1\n",
        "\n",
        "\n",
        "        while i<len(left_half):\n",
        "            nums[k]=left_half[i]\n",
        "            i+=1\n",
        "            k+=1\n",
        "\n",
        "\n",
        "        while j<len(right_half):\n",
        "            nums[k] =right_half[j]\n",
        "            j+=1\n",
        "            k+=1\n",
        "\n",
        "        return nums"
      ],
      "metadata": {
        "id": "F6lK_cdQjq6u"
      },
      "execution_count": 19,
      "outputs": []
    }
  ]
}