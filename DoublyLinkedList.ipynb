{
  "nbformat": 4,
  "nbformat_minor": 0,
  "metadata": {
    "colab": {
      "provenance": [],
      "authorship_tag": "ABX9TyNJoIYOAiJQYBvRflFpEgEH",
      "include_colab_link": true
    },
    "kernelspec": {
      "name": "python3",
      "display_name": "Python 3"
    },
    "language_info": {
      "name": "python"
    }
  },
  "cells": [
    {
      "cell_type": "markdown",
      "metadata": {
        "id": "view-in-github",
        "colab_type": "text"
      },
      "source": [
        "<a href=\"https://colab.research.google.com/github/lalitbhattarai/DSA-Prep/blob/main/DoublyLinkedList.ipynb\" target=\"_parent\"><img src=\"https://colab.research.google.com/assets/colab-badge.svg\" alt=\"Open In Colab\"/></a>"
      ]
    },
    {
      "cell_type": "markdown",
      "source": [
        "**DOUBLY LINKED LIST**"
      ],
      "metadata": {
        "id": "8afaH9TZVcnF"
      }
    },
    {
      "cell_type": "code",
      "execution_count": null,
      "metadata": {
        "id": "6q-kCIiRVVT9"
      },
      "outputs": [],
      "source": [
        "class dnode:\n",
        "  def __init__(self ,val,next=None ,prev=None):\n",
        "         self.val=val\n",
        "         self.next=None\n",
        "         self.prev=None\n",
        "  def __str__(self):\n",
        "    return str(self.val)"
      ]
    },
    {
      "cell_type": "code",
      "source": [
        "# Creating nodes\n",
        "node1 = dnode(10)\n",
        "node2 = dnode(20)\n",
        "node3 = dnode(30)\n",
        "node4 = dnode(40)\n",
        "node5=dnode(50)\n",
        "# Linking nodes\n",
        "node1.next = node2  # 10 -> 20\n",
        "node2.prev, node2.next = node1, node3  # 10 <-> 20 <-> 30\n",
        "node3.prev, node3.next = node2, node4  # 20 <-> 30 <-> 40\n",
        "node4.prev,node4.next = node3,node5    #30<-> 40<->50\n",
        "\n",
        "# Head\n",
        "head = node1\n",
        "tail=node5\n"
      ],
      "metadata": {
        "id": "q-MTFYIhXVM8"
      },
      "execution_count": null,
      "outputs": []
    },
    {
      "cell_type": "code",
      "source": [
        "#Display --O(n)\n",
        "def display(head):\n",
        "  curr=head\n",
        "  element=[]\n",
        "  while curr:\n",
        "    element.append(str(curr.val))\n",
        "    curr=curr.next\n",
        "  print(\"<--->\" .join(element) )\n",
        "\n",
        "display(head)\n",
        "\n"
      ],
      "metadata": {
        "colab": {
          "base_uri": "https://localhost:8080/"
        },
        "id": "zuPAO-SKWgA8",
        "outputId": "77a81497-fb35-4d86-ae3e-984922cb6f62"
      },
      "execution_count": null,
      "outputs": [
        {
          "output_type": "stream",
          "name": "stdout",
          "text": [
            "10<--->20<--->30<--->40<--->50\n"
          ]
        }
      ]
    },
    {
      "cell_type": "code",
      "source": [
        "#Inserting the node in head of linked list O(1)\n",
        "\n",
        "def insert_head(head, tail, val):\n",
        "  new_node = dnode(val)  # Create new node\n",
        "  new_node.next = head  # Link new node to old head\n",
        "\n",
        "  if head:\n",
        "    head.prev = new_node  # Update old head's previous pointer\n",
        "  else:\n",
        "    tail = new_node  # If list was empty, tail also points to new node\n",
        "\n",
        "  return new_node, tail  # Return new head and tail\n",
        "\n",
        "# Insert at beginning\n",
        "head, tail = insert_head(head, tail, 12)\n",
        "display(head)\n"
      ],
      "metadata": {
        "colab": {
          "base_uri": "https://localhost:8080/"
        },
        "id": "fzmeRYOpZtll",
        "outputId": "35b5c000-acd1-482c-cc72-fb4706dadef5"
      },
      "execution_count": null,
      "outputs": [
        {
          "output_type": "stream",
          "name": "stdout",
          "text": [
            "12<--->7<--->7<--->3<--->10<--->20<--->30<--->40<--->50\n"
          ]
        }
      ]
    },
    {
      "cell_type": "code",
      "source": [
        "#Inserting the element in the tail of the linked list\n",
        "def iend(head,tail,val):\n",
        "  new_node=dnode(val,prev=tail)\n",
        "  tail.next=new_node\n",
        "  return head,new_node\n",
        "\n",
        "head,tail=iend(head,tail,100)\n",
        "display(head)\n"
      ],
      "metadata": {
        "colab": {
          "base_uri": "https://localhost:8080/"
        },
        "id": "ZuMEgWYjdhz0",
        "outputId": "d442e67c-d42a-497c-85a4-7de029151164"
      },
      "execution_count": null,
      "outputs": [
        {
          "output_type": "stream",
          "name": "stdout",
          "text": [
            "12<--->7<--->7<--->3<--->10<--->20<--->30<--->40<--->50<--->100\n"
          ]
        }
      ]
    }
  ]
}