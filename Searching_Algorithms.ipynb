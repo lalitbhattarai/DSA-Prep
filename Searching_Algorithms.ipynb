{
  "nbformat": 4,
  "nbformat_minor": 0,
  "metadata": {
    "colab": {
      "provenance": [],
      "authorship_tag": "ABX9TyOT31GJUUqT4oE3hBBxY9VQ",
      "include_colab_link": true
    },
    "kernelspec": {
      "name": "python3",
      "display_name": "Python 3"
    },
    "language_info": {
      "name": "python"
    }
  },
  "cells": [
    {
      "cell_type": "markdown",
      "metadata": {
        "id": "view-in-github",
        "colab_type": "text"
      },
      "source": [
        "<a href=\"https://colab.research.google.com/github/lalitbhattarai/DSA-Prep/blob/main/Searching_Algorithms.ipynb\" target=\"_parent\"><img src=\"https://colab.research.google.com/assets/colab-badge.svg\" alt=\"Open In Colab\"/></a>"
      ]
    },
    {
      "cell_type": "markdown",
      "source": [
        "### Traditional Method"
      ],
      "metadata": {
        "id": "qAgDu7sLTFzp"
      }
    },
    {
      "cell_type": "code",
      "execution_count": null,
      "metadata": {
        "id": "AmypnNwuRWIW"
      },
      "outputs": [],
      "source": [
        "a=[-5,-3,-2,1,3,5]"
      ]
    },
    {
      "cell_type": "markdown",
      "source": [
        "lookup=3\n",
        "l=0 ->  this is index of the first\n",
        "element in the array\n",
        "\n",
        "\n",
        "r=n-1 -> this is last element in the array\n",
        "\n",
        "m=l+(l-r) //2\n",
        "\n",
        "m=(l+r) //2 ->this is less effective if both l and r is at last and second last position"
      ],
      "metadata": {
        "id": "yOvG3uoiRrR1"
      }
    },
    {
      "cell_type": "code",
      "source": [
        "b=[-3,-1,0,1,4,7]\n",
        "\n",
        "#Naive o(n) searching\n",
        "if 1 in b:\n",
        "  print(True)"
      ],
      "metadata": {
        "colab": {
          "base_uri": "https://localhost:8080/"
        },
        "id": "_a4mv8MYVDUH",
        "outputId": "ab96cfdd-72ef-42e5-f1a6-b445086e60e1"
      },
      "execution_count": null,
      "outputs": [
        {
          "output_type": "stream",
          "name": "stdout",
          "text": [
            "True\n"
          ]
        }
      ]
    },
    {
      "cell_type": "code",
      "source": [
        "#Traditional binary ssearch - Looking up if numbers is in array\n",
        "#Time complexity: O(log n)\n",
        "#space Complexity :O(1)\n",
        "\n",
        "def binary_search(arr,target):\n",
        "   n=len(b)\n",
        "   l=0\n",
        "   r=n-1\n",
        "\n",
        "\n",
        "   while l<=r:\n",
        "     mid=l+(r-l) //2\n",
        "\n",
        "     if arr[mid]==target:\n",
        "         return True\n",
        "\n",
        "     elif target < arr[mid]:\n",
        "        r=mid-1\n",
        "\n",
        "     else:\n",
        "          l=mid+1\n",
        "\n",
        "   return False\n",
        "binary_search(b,-1)\n"
      ],
      "metadata": {
        "colab": {
          "base_uri": "https://localhost:8080/"
        },
        "id": "HY-LKE-7VDhm",
        "outputId": "45a22f8b-46c2-4f73-9419-33a729ae5fff"
      },
      "execution_count": null,
      "outputs": [
        {
          "output_type": "execute_result",
          "data": {
            "text/plain": [
              "True"
            ]
          },
          "metadata": {},
          "execution_count": 27
        }
      ]
    },
    {
      "cell_type": "code",
      "source": [],
      "metadata": {
        "id": "JWB8IjPRg3Oe"
      },
      "execution_count": null,
      "outputs": []
    },
    {
      "cell_type": "markdown",
      "source": [
        "### Condition Based\n",
        " this method is  more for leetcode kind problems\n"
      ],
      "metadata": {
        "id": "C2Obbuj4SWGa"
      }
    },
    {
      "cell_type": "code",
      "source": [
        "c = [False,False,False,False,True,True,True]\n",
        "\n",
        "def binary_search_condition(arr):\n",
        "  n=len(arr)\n",
        "  l=0\n",
        "  r=n-1\n",
        "\n",
        "  while l < r:\n",
        "    m=(l+r) //2\n",
        "\n",
        "    if arr[m]:\n",
        "      r=m\n",
        "\n",
        "    else:\n",
        "      l=m+1\n",
        "\n",
        "  return l\n",
        "\n",
        "binary_search_condition(c)\n",
        "\n",
        "\n"
      ],
      "metadata": {
        "colab": {
          "base_uri": "https://localhost:8080/"
        },
        "id": "vEDMoy9ca3_q",
        "outputId": "bf74bf74-5fd9-4ccd-a4fe-a5d21f9a418b"
      },
      "execution_count": null,
      "outputs": [
        {
          "output_type": "execute_result",
          "data": {
            "text/plain": [
              "4"
            ]
          },
          "metadata": {},
          "execution_count": 42
        }
      ]
    },
    {
      "cell_type": "markdown",
      "source": [
        "### Problems\n",
        " These are the problems of some of leetcode and some of the simple usecase problem\n"
      ],
      "metadata": {
        "id": "uholZCAOhsPm"
      }
    },
    {
      "cell_type": "code",
      "source": [
        "#Return the index of the search  element\n",
        "nums=[12,15,16,19,111]\n",
        "\n",
        "def B_search(arr,target):\n",
        "  n=len(arr)\n",
        "  l=0\n",
        "  r=n-1\n",
        "  i=arr[:]\n",
        "  while l <= r:\n",
        "    mid=l+(r-l)  //2\n",
        "\n",
        "    if arr[mid]==target:\n",
        "      return mid\n",
        "\n",
        "    elif arr[mid]<target:\n",
        "      l=mid + 1\n",
        "\n",
        "    else:\n",
        "      r=mid -1\n",
        "\n",
        "  return -1\n",
        "\n",
        "\n",
        "B_search(nums,11)"
      ],
      "metadata": {
        "colab": {
          "base_uri": "https://localhost:8080/"
        },
        "id": "JM1MDxzLh3h-",
        "outputId": "1757ad85-6a63-4565-d276-bca840df4851"
      },
      "execution_count": null,
      "outputs": [
        {
          "output_type": "execute_result",
          "data": {
            "text/plain": [
              "-1"
            ]
          },
          "metadata": {},
          "execution_count": 61
        }
      ]
    },
    {
      "cell_type": "markdown",
      "source": [
        "### leetcode 704\n",
        "Given an array of integers nums which is sorted in ascending order, and an integer target, write a function to search target in nums. If target exists, then return its index. Otherwise, return -1.\n",
        "\n",
        "You must write an algorithm with O(log n) runtime complexity.\n",
        "\n",
        " Example 1:\n",
        "\n",
        "Input: nums = [-1,0,3,5,9,12],\n",
        "\n",
        "target = 9\n",
        "\n",
        "Output: 4\n",
        "\n",
        "Explanation: 9 exists in nums and its index is 4\n",
        "\n",
        "\n"
      ],
      "metadata": {
        "id": "stUlrxUrmrFq"
      }
    },
    {
      "cell_type": "code",
      "source": [
        "# we are going to write this code without the class\n",
        "nums = [-1,0,3,5,9,12]\n",
        "def B_L_search(nums,target):\n",
        "  n=len(nums)\n",
        "  l=0\n",
        "  r=n-1\n",
        "  while l <= r:\n",
        "    mid=l+ (r-l) //2\n",
        "\n",
        "    if nums[mid]==target:\n",
        "      return mid\n",
        "\n",
        "    elif nums[mid] < target:\n",
        "      l=mid+1\n",
        "\n",
        "    else:\n",
        "      r=mid-1\n",
        "\n",
        "  return -1\n",
        "\n",
        "\n",
        "B_L_search(nums,3)\n",
        "\n",
        "\n"
      ],
      "metadata": {
        "colab": {
          "base_uri": "https://localhost:8080/"
        },
        "id": "rUV4jsz0m700",
        "outputId": "c8686361-59c0-4bcf-be2c-4b3b8f645236"
      },
      "execution_count": null,
      "outputs": [
        {
          "output_type": "execute_result",
          "data": {
            "text/plain": [
              "2"
            ]
          },
          "metadata": {},
          "execution_count": 59
        }
      ]
    },
    {
      "cell_type": "markdown",
      "source": [
        "### leetcode 278  (First bad version)\n",
        "You are a product manager and currently leading a team to develop a new product. Unfortunately, the latest version of your product fails the quality check. Since each version is developed based on the previous version, all the versions after a bad version are also bad.\n",
        "\n",
        "Suppose you have n versions [1, 2, ..., n] and you want to find out the first bad one, which causes all the following ones to be bad.\n",
        "\n",
        "You are given an API bool isBadVersion(version) which returns whether version is bad. Implement a function to find the first bad version. You should minimize the number of calls to the API.\n",
        "\n",
        "\n",
        "Example 1:\n",
        "\n",
        "Input: n = 5, bad = 4\n",
        "\n",
        "Output: 4\n",
        "\n",
        "Explanation:\n",
        "\n",
        "call isBadVersion(3) -> false\n",
        "\n",
        "call isBadVersion(5) -> true\n",
        "\n",
        "call isBadVersion(4) -> true\n",
        "\n",
        "Then 4 is the first bad version.\n",
        "\n"
      ],
      "metadata": {
        "id": "Q5u7xQ1rp1-j"
      }
    },
    {
      "cell_type": "code",
      "source": [
        "# The isBadVersion API is already defined for you.\n",
        "# def isBadVersion(version: int) -> bool:\n",
        "\n",
        "\n",
        "\n",
        "###This is a copy of leetcode just as it is.\n",
        "\n",
        "class Solution:\n",
        "    def firstBadVersion(self, n: int) -> int:\n",
        "        l=1\n",
        "        r=n\n",
        "\n",
        "        while l<r:\n",
        "            m=(l+r)//2\n",
        "            if isBadVersion(m):\n",
        "                r=m\n",
        "            else:\n",
        "                l=m+1\n",
        "        return l\n",
        "\n"
      ],
      "metadata": {
        "id": "GmqO7rT3qCnV"
      },
      "execution_count": null,
      "outputs": []
    },
    {
      "cell_type": "markdown",
      "source": [
        "21-3-2025"
      ],
      "metadata": {
        "id": "AGqR_OPJdm-I"
      }
    },
    {
      "cell_type": "code",
      "source": [
        "#Binary search\n",
        "nums=[1,2,3,4,]\n",
        "\n",
        "def Binary_search(nums,target):\n",
        "  l=0\n",
        "  n=len(nums)\n",
        "  r=n-1\n",
        "  while l <= r:\n",
        "        mid = l + (r - l) // 2  # Calculate mid correctly\n",
        "\n",
        "        if nums[mid] == target:\n",
        "            return mid  # Return index of the target\n",
        "        elif nums[mid] < target:\n",
        "            l = mid + 1  # Move right\n",
        "        else:\n",
        "            r = mid - 1  # Move left\n",
        "\n",
        "  return -1\n",
        "\n",
        "\n",
        "print(Binary_search(nums,target=3))\n",
        ""
      ],
      "metadata": {
        "colab": {
          "base_uri": "https://localhost:8080/"
        },
        "id": "yY65VC5LdrcA",
        "outputId": "7bad9990-fb7d-4284-8d4d-9846d819c567"
      },
      "execution_count": 7,
      "outputs": [
        {
          "output_type": "stream",
          "name": "stdout",
          "text": [
            "2\n"
          ]
        }
      ]
    }
  ]
}