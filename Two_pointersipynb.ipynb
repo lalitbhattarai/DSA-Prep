{
  "nbformat": 4,
  "nbformat_minor": 0,
  "metadata": {
    "colab": {
      "provenance": [],
      "authorship_tag": "ABX9TyMh2HKWqmcHoMhmBlDV/ORC",
      "include_colab_link": true
    },
    "kernelspec": {
      "name": "python3",
      "display_name": "Python 3"
    },
    "language_info": {
      "name": "python"
    }
  },
  "cells": [
    {
      "cell_type": "markdown",
      "metadata": {
        "id": "view-in-github",
        "colab_type": "text"
      },
      "source": [
        "<a href=\"https://colab.research.google.com/github/lalitbhattarai/DSA-Prep/blob/main/Two_pointersipynb.ipynb\" target=\"_parent\"><img src=\"https://colab.research.google.com/assets/colab-badge.svg\" alt=\"Open In Colab\"/></a>"
      ]
    },
    {
      "cell_type": "markdown",
      "source": [
        "# TWo Pointers"
      ],
      "metadata": {
        "id": "Tt-w4eEDFzT6"
      }
    },
    {
      "cell_type": "markdown",
      "source": [
        "Two pointers optimize searching in sorted arrays by moving from both ends towards the center, reducing time complexity to O(n).\n",
        "\n",
        "Common applications include pair sum problems, removing duplicates, and detecting cycles in linked lists."
      ],
      "metadata": {
        "id": "sDkWwZQOIdDp"
      }
    },
    {
      "cell_type": "code",
      "source": [
        "def Two_pointers(nums):\n",
        "    left = 0\n",
        "    right = len(nums) - 1\n",
        "    result = []\n",
        "\n",
        "    while left <= right:\n",
        "        if abs(nums[left]) > abs(nums[right]):\n",
        "            result.append(nums[left] ** 2)\n",
        "            left += 1\n",
        "        else:\n",
        "            result.append(nums[right] ** 2)\n",
        "            right -= 1\n",
        "\n",
        "    return result[::-1]\n",
        "\n",
        "\n",
        "nums = [ -8,-1,0,3,7,9]\n",
        "print(Two_pointers(nums))\n",
        "\n",
        "\n",
        "\n"
      ],
      "metadata": {
        "colab": {
          "base_uri": "https://localhost:8080/"
        },
        "id": "RnDyG8PvGGXM",
        "outputId": "ef61b778-81aa-45e6-8bd4-a9e25e9e65c3"
      },
      "execution_count": null,
      "outputs": [
        {
          "output_type": "stream",
          "name": "stdout",
          "text": [
            "[0, 1, 9, 49, 64, 81]\n"
          ]
        }
      ]
    },
    {
      "cell_type": "code",
      "source": [
        "def poointers(arr):\n",
        "  left=0\n",
        "  right=len(arr) -1\n",
        "  result=[]\n",
        "\n",
        "  while left <= right:\n",
        "    if abs(arr[left]) > abs(arr[right]):\n",
        "      result.append(arr[left]**2)\n",
        "      left +=1\n",
        "    else:\n",
        "      result.append(arr[right]**2)\n",
        "      right-=1\n",
        "\n",
        "\n",
        "  return result[::-1]\n",
        "\n",
        "\n",
        "arr=[-1,2,3,4,5,6,7]\n",
        "print(poointers(arr))\n",
        "\n",
        "\n"
      ],
      "metadata": {
        "colab": {
          "base_uri": "https://localhost:8080/"
        },
        "id": "Jw4-H9rhIevi",
        "outputId": "28a403ed-0b8b-42e9-f068-5f3865a4d24b"
      },
      "execution_count": null,
      "outputs": [
        {
          "output_type": "stream",
          "name": "stdout",
          "text": [
            "[1, 4, 9, 16, 25, 36, 49]\n"
          ]
        }
      ]
    },
    {
      "cell_type": "code",
      "source": [],
      "metadata": {
        "id": "zF8ZJvOwX66D"
      },
      "execution_count": null,
      "outputs": []
    }
  ]
}