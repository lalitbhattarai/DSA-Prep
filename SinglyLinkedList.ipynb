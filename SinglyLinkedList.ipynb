{
  "nbformat": 4,
  "nbformat_minor": 0,
  "metadata": {
    "colab": {
      "provenance": [],
      "authorship_tag": "ABX9TyNxHcT46jhGrtNNiWTzGS/k",
      "include_colab_link": true
    },
    "kernelspec": {
      "name": "python3",
      "display_name": "Python 3"
    },
    "language_info": {
      "name": "python"
    }
  },
  "cells": [
    {
      "cell_type": "markdown",
      "metadata": {
        "id": "view-in-github",
        "colab_type": "text"
      },
      "source": [
        "<a href=\"https://colab.research.google.com/github/lalitbhattarai/DSA-Prep/blob/main/SinglyLinkedList.ipynb\" target=\"_parent\"><img src=\"https://colab.research.google.com/assets/colab-badge.svg\" alt=\"Open In Colab\"/></a>"
      ]
    },
    {
      "cell_type": "markdown",
      "source": [
        "# `** SINGLY LINKED LIST**`\n",
        "\n",
        "---\n",
        "\n",
        "\n",
        "\n",
        "---\n",
        "\n"
      ],
      "metadata": {
        "id": "zTz9wLKQLFeC"
      }
    },
    {
      "cell_type": "code",
      "source": [
        "#Singly Linked list\n",
        "class singlyNode:\n",
        "  def __init__(self, val,next=None):\n",
        "    self.val=val\n",
        "    self.next=next\n",
        "\n",
        "  def __str__(self):\n",
        "    return str(self.val)\n",
        "\n",
        "\n"
      ],
      "metadata": {
        "id": "yO42LGkWLYBk"
      },
      "execution_count": null,
      "outputs": []
    },
    {
      "cell_type": "code",
      "source": [
        "head=singlyNode(1)\n",
        "A=singlyNode(2)\n",
        "B=singlyNode(3)\n",
        "C=singlyNode(4)\n",
        "head.next=A\n",
        "A.next=B\n",
        "B.next=C\n",
        "\n",
        "print(head)"
      ],
      "metadata": {
        "colab": {
          "base_uri": "https://localhost:8080/"
        },
        "id": "d9wmSmqONm0j",
        "outputId": "256a2620-1b0c-43de-a301-b2b1f58dc9e7"
      },
      "execution_count": null,
      "outputs": [
        {
          "output_type": "stream",
          "name": "stdout",
          "text": [
            "1\n"
          ]
        }
      ]
    },
    {
      "cell_type": "code",
      "source": [
        "#traverse the linked list\n",
        "curr=head\n",
        "while curr:\n",
        "  print(curr)\n",
        "  curr=curr.next"
      ],
      "metadata": {
        "colab": {
          "base_uri": "https://localhost:8080/"
        },
        "id": "2gtf5OYYOXWJ",
        "outputId": "5c17efbc-05e8-46d9-d1b1-c86a299f84e3"
      },
      "execution_count": null,
      "outputs": [
        {
          "output_type": "stream",
          "name": "stdout",
          "text": [
            "1\n",
            "2\n",
            "3\n",
            "4\n"
          ]
        }
      ]
    },
    {
      "cell_type": "code",
      "source": [
        "#Display the linked list --O(n)\n",
        "def display(head):\n",
        "  curr = head\n",
        "  element = []\n",
        "  while curr:\n",
        "    element.append(str(curr.val))  # Collect node values\n",
        "    curr = curr.next  # Move to the next node\n",
        "  print(\"---->\".join(element))  # Print the linked list after collecting all values\n",
        "\n",
        "display(head)\n"
      ],
      "metadata": {
        "colab": {
          "base_uri": "https://localhost:8080/"
        },
        "id": "DTLE3U4kOuWM",
        "outputId": "4be30ad1-da11-481f-f576-14dddd006b9a"
      },
      "execution_count": null,
      "outputs": [
        {
          "output_type": "stream",
          "name": "stdout",
          "text": [
            "1---->2---->3---->4\n"
          ]
        }
      ]
    },
    {
      "cell_type": "code",
      "source": [
        "#Searching for node value--O(n)\n",
        "def search(head,val):\n",
        "  curr=head\n",
        "  while curr:\n",
        "    if val ==curr.val:\n",
        "      return True\n",
        "    else:\n",
        "      curr=curr.next\n",
        "  return False\n",
        "\n",
        "\n",
        "search(head,4)"
      ],
      "metadata": {
        "colab": {
          "base_uri": "https://localhost:8080/"
        },
        "id": "1WnKCX9cRa6B",
        "outputId": "3abd0e3e-15be-480b-d100-fb5cff2a69fe"
      },
      "execution_count": null,
      "outputs": [
        {
          "output_type": "execute_result",
          "data": {
            "text/plain": [
              "True"
            ]
          },
          "metadata": {},
          "execution_count": 64
        }
      ]
    }
  ]
}