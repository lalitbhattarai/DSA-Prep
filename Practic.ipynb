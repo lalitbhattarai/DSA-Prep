{
  "nbformat": 4,
  "nbformat_minor": 0,
  "metadata": {
    "colab": {
      "provenance": [],
      "authorship_tag": "ABX9TyPc8/jGdSdUk1aNDg4cTSg6",
      "include_colab_link": true
    },
    "kernelspec": {
      "name": "python3",
      "display_name": "Python 3"
    },
    "language_info": {
      "name": "python"
    }
  },
  "cells": [
    {
      "cell_type": "markdown",
      "metadata": {
        "id": "view-in-github",
        "colab_type": "text"
      },
      "source": [
        "<a href=\"https://colab.research.google.com/github/lalitbhattarai/DSA-Prep/blob/main/Practic.ipynb\" target=\"_parent\"><img src=\"https://colab.research.google.com/assets/colab-badge.svg\" alt=\"Open In Colab\"/></a>"
      ]
    },
    {
      "cell_type": "markdown",
      "source": [
        "# Binary search\n",
        "\n",
        "Binary search is an efficient algorithm to find an element in a sorted array by repeatedly dividing the search space in half. It runs in O(log n) time by comparing the target with the middle element and adjusting the search range accordingly."
      ],
      "metadata": {
        "id": "P5D7HPEVtNiV"
      }
    },
    {
      "cell_type": "code",
      "source": [
        "arr=[1,2,3,4,5,6,7,8,9,0]"
      ],
      "metadata": {
        "id": "JzNX_rCWtcWP"
      },
      "execution_count": 3,
      "outputs": []
    },
    {
      "cell_type": "code",
      "source": [
        "def Binary_search(arr,target):\n",
        "  n=len(arr)\n",
        "  r=n-1\n",
        "  l=0\n",
        "\n",
        "  while l<r :\n",
        "\n",
        "    mid=l+(r-l) //2\n",
        "    if mid==target:\n",
        "      return mid\n",
        "\n",
        "    elif mid <target:\n",
        "      l=mid-1\n",
        "\n",
        "    else :\n",
        "      r=mid +1\n",
        "\n",
        "  return False\n",
        "\n",
        "print(Binary_search(arr,target=2))"
      ],
      "metadata": {
        "colab": {
          "base_uri": "https://localhost:8080/"
        },
        "id": "n2ZsPDmmtk4w",
        "outputId": "433e4686-6e8f-43ae-fa58-2b9c1c66d708"
      },
      "execution_count": 4,
      "outputs": [
        {
          "output_type": "stream",
          "name": "stdout",
          "text": [
            "2\n"
          ]
        }
      ]
    },
    {
      "cell_type": "markdown",
      "source": [
        "# Merge Sort\n",
        "\n",
        "Merge Sort is a divide-and-conquer algorithm that recursively splits an array into halves, sorts them, and then merges them back. It has a time complexity of O(n log n) in all cases."
      ],
      "metadata": {
        "id": "fH-zMyUJvG5N"
      }
    },
    {
      "cell_type": "code",
      "source": [
        "nums=[2,-1,5,3,9,-10]\n",
        "def Merge_sort(nums):\n",
        "  if len(nums)<=1:\n",
        "    return nums\n",
        "\n",
        "  mid =len(nums)//2\n",
        "  left_side =nums[:mid]\n",
        "  right_side =nums[mid:]\n",
        "\n",
        "  Merge_sort(left_side)\n",
        "  Merge_sort(right_side)\n",
        "\n",
        "  i=j=k=0\n",
        "\n",
        "  while i <len(left_side) and j<len(right_side):\n",
        "    if left_side[i] <right_side[j]:\n",
        "      nums[k]=left_side[i]\n",
        "      i+=1\n",
        "\n",
        "    else:\n",
        "      nums[k] =right_side[j]\n",
        "      j+=1\n",
        "\n",
        "    k+=1\n",
        "\n",
        "  while i<len(left_side):\n",
        "    nums[k]=left_side[i]\n",
        "    i+=1\n",
        "    k+=1\n",
        "\n",
        "  while j < len(right_side):\n",
        "    nums[k]=right_side[j]\n",
        "    j+=1\n",
        "    k+=1\n",
        "\n",
        "  return nums\n",
        "\n",
        "print(Merge_sort(nums))\n",
        "\n"
      ],
      "metadata": {
        "id": "Wp4L4-4SvK9O",
        "colab": {
          "base_uri": "https://localhost:8080/"
        },
        "outputId": "29fe560c-7178-45af-c66a-84d225423d94"
      },
      "execution_count": 2,
      "outputs": [
        {
          "output_type": "stream",
          "name": "stdout",
          "text": [
            "[-10, -1, 2, 3, 5, 9]\n"
          ]
        }
      ]
    },
    {
      "cell_type": "markdown",
      "source": [
        "# Quick Sort\n",
        "\n",
        "Merge Sort is a divide-and-conquer algorithm that recursively splits an array into halves, sorts them, and then merges them back. It has a time complexity of O(n log n) in all cases."
      ],
      "metadata": {
        "id": "PyMqtSBnWQum"
      }
    },
    {
      "cell_type": "code",
      "source": [
        "nums=[2,6,1,3,5,7]\n",
        "def Quick_sort(nums):\n",
        "  if len(nums) <=1:\n",
        "    return nums\n",
        "\n",
        "  pivot=nums[-1]\n",
        "\n",
        "  greter_number=[i for i in nums[:-1] if i > pivot]\n",
        "  lesser_number=[i for i in nums[:-1] if i < pivot]\n",
        "\n",
        "  return Quick_sort(lesser_number) +[pivot] + (greter_number)\n",
        "\n",
        "print(Quick_sort(nums))\n"
      ],
      "metadata": {
        "colab": {
          "base_uri": "https://localhost:8080/"
        },
        "id": "bhJdWbXRT_0M",
        "outputId": "a94ac146-49c6-458b-aeae-a42849c8cfb0"
      },
      "execution_count": 6,
      "outputs": [
        {
          "output_type": "stream",
          "name": "stdout",
          "text": [
            "[1, 2, 3, 5, 6, 7]\n"
          ]
        }
      ]
    },
    {
      "cell_type": "markdown",
      "source": [
        "#Two pointers\n",
        "\n",
        "The two-pointer technique is used to solve problems efficiently by using two indices (pointers) to traverse a data structure, often from opposite ends.\n",
        "\n",
        "Common Applications:\n",
        "Finding pairs in a sorted array (e.g., sum problems)\n",
        "\n",
        "Merging two sorted arrays\n",
        "\n",
        "Removing duplicates from a sorted list\n",
        "\n",
        "Reversing an array in-place\n"
      ],
      "metadata": {
        "id": "M00c7SDhXTZe"
      }
    },
    {
      "cell_type": "code",
      "source": [
        "nums = [-1, -3, 5, 7, 9]\n",
        "\n",
        "def two_pointers(nums):\n",
        "    left = 0\n",
        "    right = len(nums) - 1\n",
        "    result = []\n",
        "\n",
        "    while left <= right:\n",
        "        if abs(nums[left]) > abs(nums[right]):\n",
        "            result.append(nums[left] **2)\n",
        "            left += 1\n",
        "        else:\n",
        "            result.append(nums[right]**2)\n",
        "            right -= 1\n",
        "\n",
        "    return result[::-1]  # Reverse to maintain sorted order based on absolute values\n",
        "\n",
        "print(two_pointers(nums))\n"
      ],
      "metadata": {
        "colab": {
          "base_uri": "https://localhost:8080/"
        },
        "id": "kmG2FxAHXdp4",
        "outputId": "dc81df09-286e-4642-f996-c439a275ffaf"
      },
      "execution_count": 15,
      "outputs": [
        {
          "output_type": "stream",
          "name": "stdout",
          "text": [
            "[1, 9, 25, 49, 81]\n"
          ]
        }
      ]
    }
  ]
}