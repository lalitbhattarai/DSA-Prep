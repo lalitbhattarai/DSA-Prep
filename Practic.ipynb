{
  "nbformat": 4,
  "nbformat_minor": 0,
  "metadata": {
    "colab": {
      "provenance": [],
      "authorship_tag": "ABX9TyOEs6y3VT87SYQebkeicEMu",
      "include_colab_link": true
    },
    "kernelspec": {
      "name": "python3",
      "display_name": "Python 3"
    },
    "language_info": {
      "name": "python"
    }
  },
  "cells": [
    {
      "cell_type": "markdown",
      "metadata": {
        "id": "view-in-github",
        "colab_type": "text"
      },
      "source": [
        "<a href=\"https://colab.research.google.com/github/lalitbhattarai/DSA-Prep/blob/main/Practic.ipynb\" target=\"_parent\"><img src=\"https://colab.research.google.com/assets/colab-badge.svg\" alt=\"Open In Colab\"/></a>"
      ]
    },
    {
      "cell_type": "markdown",
      "source": [
        "# Binary search\n",
        "\n",
        "Binary search is an efficient algorithm to find an element in a sorted array by repeatedly dividing the search space in half. It runs in O(log n) time by comparing the target with the middle element and adjusting the search range accordingly."
      ],
      "metadata": {
        "id": "P5D7HPEVtNiV"
      }
    },
    {
      "cell_type": "code",
      "source": [
        "arr=[1,2,3,4,5,6,7,8,9,0]"
      ],
      "metadata": {
        "id": "JzNX_rCWtcWP"
      },
      "execution_count": null,
      "outputs": []
    },
    {
      "cell_type": "code",
      "source": [
        "def Binary_search(arr,target):\n",
        "  n=len(arr)\n",
        "  r=n-1\n",
        "  l=0\n",
        "\n",
        "  while l<r :\n",
        "\n",
        "    mid=l+(r-l) //2\n",
        "    if mid==target:\n",
        "      return mid\n",
        "\n",
        "    elif mid <target:\n",
        "      l=mid-1\n",
        "\n",
        "    else :\n",
        "      r=mid +1\n",
        "\n",
        "  return False\n",
        "\n",
        "print(Binary_search(arr,target=2))"
      ],
      "metadata": {
        "colab": {
          "base_uri": "https://localhost:8080/"
        },
        "id": "n2ZsPDmmtk4w",
        "outputId": "940955d4-52e1-4e1f-8f16-03c145fdf9f6"
      },
      "execution_count": null,
      "outputs": [
        {
          "output_type": "stream",
          "name": "stdout",
          "text": [
            "2\n"
          ]
        }
      ]
    },
    {
      "cell_type": "markdown",
      "source": [
        "# Merge Sort\n",
        "\n",
        "Merge Sort is a divide-and-conquer algorithm that recursively splits an array into halves, sorts them, and then merges them back. It has a time complexity of O(n log n) in all cases."
      ],
      "metadata": {
        "id": "fH-zMyUJvG5N"
      }
    },
    {
      "cell_type": "code",
      "source": [
        "nums=[2,-1,5,3,9,-10]\n",
        "def Merge_sort(nums):\n",
        "  if len(nums)<=1:\n",
        "    return nums\n",
        "\n",
        "  mid =len(nums)//2\n",
        "  left_side =nums[:mid]\n",
        "  right_side =nums[mid:]\n",
        "\n",
        "  Merge_sort(left_side)\n",
        "  Merge_sort(right_side)\n",
        "\n",
        "  i=j=k=0\n",
        "\n",
        "  while i <len(left_side) and j<len(right_side):\n",
        "    if left_side[i] <right_side[j]:\n",
        "      nums[k]=left_side[i]\n",
        "      i+=1\n",
        "\n",
        "    else:\n",
        "      nums[k] =right_side[j]\n",
        "      j+=1\n",
        "\n",
        "    k+=1\n",
        "\n",
        "  while i<len(left_side):\n",
        "    nums[k]=left_side[i]\n",
        "    i+=1\n",
        "    k+=1\n",
        "\n",
        "  while j < len(right_side):\n",
        "    nums[k]=right_side[j]\n",
        "    j+=1\n",
        "    k+=1\n",
        "\n",
        "  return nums\n",
        "\n",
        "print(Merge_sort(nums))\n",
        "\n"
      ],
      "metadata": {
        "id": "Wp4L4-4SvK9O",
        "colab": {
          "base_uri": "https://localhost:8080/"
        },
        "outputId": "8e788fbe-e592-46f5-da5c-4ff53df197bf"
      },
      "execution_count": null,
      "outputs": [
        {
          "output_type": "stream",
          "name": "stdout",
          "text": [
            "[-10, -1, 2, 3, 5, 9]\n"
          ]
        }
      ]
    },
    {
      "cell_type": "markdown",
      "source": [
        "# Quick Sort\n",
        "\n",
        "Merge Sort is a divide-and-conquer algorithm that recursively splits an array into halves, sorts them, and then merges them back. It has a time complexity of O(n log n) in all cases."
      ],
      "metadata": {
        "id": "PyMqtSBnWQum"
      }
    },
    {
      "cell_type": "code",
      "source": [
        "nums=[2,6,1,3,5,7]\n",
        "def Quick_sort(nums):\n",
        "  if len(nums) <=1:\n",
        "    return nums\n",
        "\n",
        "  pivot=nums[-1]\n",
        "\n",
        "  greter_number=[i for i in nums[:-1] if i > pivot]\n",
        "  lesser_number=[i for i in nums[:-1] if i < pivot]\n",
        "\n",
        "  return Quick_sort(lesser_number) +[pivot] + (greter_number)\n",
        "\n",
        "print(Quick_sort(nums))\n"
      ],
      "metadata": {
        "colab": {
          "base_uri": "https://localhost:8080/"
        },
        "id": "bhJdWbXRT_0M",
        "outputId": "9f8e3fb0-6cbf-46c4-f479-5e078d6ed6f9"
      },
      "execution_count": null,
      "outputs": [
        {
          "output_type": "stream",
          "name": "stdout",
          "text": [
            "[1, 2, 3, 5, 6, 7]\n"
          ]
        }
      ]
    },
    {
      "cell_type": "markdown",
      "source": [
        "#Two pointers\n",
        "\n",
        "The two-pointer technique is used to solve problems efficiently by using two indices (pointers) to traverse a data structure, often from opposite ends.\n",
        "\n",
        "Common Applications:\n",
        "Finding pairs in a sorted array (e.g., sum problems)\n",
        "\n",
        "Merging two sorted arrays\n",
        "\n",
        "Removing duplicates from a sorted list\n",
        "\n",
        "Reversing an array in-place\n"
      ],
      "metadata": {
        "id": "M00c7SDhXTZe"
      }
    },
    {
      "cell_type": "code",
      "source": [
        "nums = [-1, -3, 5, 7, 9]\n",
        "\n",
        "def two_pointers(nums):\n",
        "    left = 0\n",
        "    right = len(nums) - 1\n",
        "    result = []\n",
        "\n",
        "    while left <= right:\n",
        "        if abs(nums[left]) > abs(nums[right]):\n",
        "            result.append(nums[left] **2)\n",
        "            left += 1\n",
        "        else:\n",
        "            result.append(nums[right]**2)\n",
        "            right -= 1\n",
        "\n",
        "    return result[::-1]  # Reverse to maintain sorted order based on absolute values\n",
        "\n",
        "print(two_pointers(nums))\n"
      ],
      "metadata": {
        "colab": {
          "base_uri": "https://localhost:8080/"
        },
        "id": "kmG2FxAHXdp4",
        "outputId": "e2c5ffeb-2ccf-463f-9125-b4b5dff3b150"
      },
      "execution_count": null,
      "outputs": [
        {
          "output_type": "stream",
          "name": "stdout",
          "text": [
            "[1, 9, 25, 49, 81]\n"
          ]
        }
      ]
    },
    {
      "cell_type": "markdown",
      "source": [
        "29-03-2025"
      ],
      "metadata": {
        "id": "T6nBySIDUWqN"
      }
    },
    {
      "cell_type": "code",
      "source": [
        "#Lets write two pointer problem once again ]\n",
        "nums=[-1,-3,5,7,9]\n",
        "def two_pointers01(nums):\n",
        "  left=0\n",
        "  right=len(nums)-1\n",
        "  result=[]\n",
        "\n",
        "  while left <= right:\n",
        "    if abs(nums[left]) >abs(nums[right]):\n",
        "      result .append (nums[left] **2)\n",
        "      left+=1\n",
        "\n",
        "    else:\n",
        "      result.append(nums[right]**2)\n",
        "      right-=1\n",
        "\n",
        "  return result[::-1]\n",
        "\n",
        "print(two_pointers01(nums))\n",
        "\n",
        "\n"
      ],
      "metadata": {
        "colab": {
          "base_uri": "https://localhost:8080/"
        },
        "id": "O69uHUvUUatl",
        "outputId": "1bdd77d0-f387-4b82-8025-60f5395d7020"
      },
      "execution_count": null,
      "outputs": [
        {
          "output_type": "stream",
          "name": "stdout",
          "text": [
            "[1, 9, 25, 49, 81]\n"
          ]
        }
      ]
    },
    {
      "cell_type": "markdown",
      "source": [
        "# Sliding window problems"
      ],
      "metadata": {
        "id": "2OPiLpU8W9Di"
      }
    },
    {
      "cell_type": "markdown",
      "source": [
        "Sliding window problems involve using a dynamic window (fixed or variable size) to optimize operations on subarrays or substrings. They are commonly used for problems like finding the maximum sum of a subarray, longest substring without repeating characters, and minimum window substring."
      ],
      "metadata": {
        "id": "htLIkVHOXDCb"
      }
    },
    {
      "cell_type": "code",
      "source": [
        "#VAriable size sliding window\n",
        "s=\"abc\"\n",
        "def V_size_slidingwindow(s):\n",
        "  l=0\n",
        "  r=0\n",
        "  longest=0\n",
        "  sett=set()\n",
        "  n=len(s)\n",
        "\n",
        "  for r in range(n):\n",
        "    while s[r] in sett:\n",
        "      sett.remove(s[l])\n",
        "      l+=1\n",
        "\n",
        "\n",
        "    w=(r-l) +1\n",
        "    longest=max(longest,w)\n",
        "    sett.add(s[r])\n",
        "\n",
        "  return longest\n",
        "\n",
        "print(V_size_slidingwindow(s))\n"
      ],
      "metadata": {
        "colab": {
          "base_uri": "https://localhost:8080/"
        },
        "id": "OiZ9ibdhXNvc",
        "outputId": "f29051a0-3ba5-4141-b369-cbed411321ee"
      },
      "execution_count": null,
      "outputs": [
        {
          "output_type": "stream",
          "name": "stdout",
          "text": [
            "3\n"
          ]
        }
      ]
    },
    {
      "cell_type": "code",
      "source": [
        "values=\"qw  e\"\n",
        "def V_size_slidingwindow1(values):\n",
        "  l=0\n",
        "  r=0\n",
        "  longest=0\n",
        "  settt=set()\n",
        "  n=len(values)\n",
        "\n",
        "  for r in range(n):\n",
        "    while values[r] in settt:\n",
        "      settt.remove(values[l])\n",
        "      l+=1\n",
        "\n",
        "    w=(r-l) +1\n",
        "    longest=max(longest,w)\n",
        "    settt.add(values[r])\n",
        "\n",
        "  return longest\n",
        "\n",
        "print(V_size_slidingwindow1(values))\n",
        "\n",
        "\n",
        "\n"
      ],
      "metadata": {
        "colab": {
          "base_uri": "https://localhost:8080/"
        },
        "id": "SKDChZggZMBN",
        "outputId": "f92aa62d-82c7-4458-babf-056865298c99"
      },
      "execution_count": null,
      "outputs": [
        {
          "output_type": "stream",
          "name": "stdout",
          "text": [
            "3\n"
          ]
        }
      ]
    },
    {
      "cell_type": "code",
      "source": [
        "set(values)"
      ],
      "metadata": {
        "colab": {
          "base_uri": "https://localhost:8080/"
        },
        "id": "tKNXIypzahNC",
        "outputId": "53d0be4f-c438-4202-bd98-123a73d59e30"
      },
      "execution_count": null,
      "outputs": [
        {
          "output_type": "execute_result",
          "data": {
            "text/plain": [
              "{' ',\n",
              " 'a',\n",
              " 'd',\n",
              " 'e',\n",
              " 'i',\n",
              " 'j',\n",
              " 'k',\n",
              " 'n',\n",
              " 'o',\n",
              " 'q',\n",
              " 'r',\n",
              " 's',\n",
              " 't',\n",
              " 'u',\n",
              " 'v',\n",
              " 'w',\n",
              " 'y'}"
            ]
          },
          "metadata": {},
          "execution_count": 22
        }
      ]
    },
    {
      "cell_type": "code",
      "source": [
        "len(set(values))"
      ],
      "metadata": {
        "colab": {
          "base_uri": "https://localhost:8080/"
        },
        "id": "c0RdREVvbaKR",
        "outputId": "91e987cf-9874-4059-d98f-50fdb0717e84"
      },
      "execution_count": null,
      "outputs": [
        {
          "output_type": "execute_result",
          "data": {
            "text/plain": [
              "17"
            ]
          },
          "metadata": {},
          "execution_count": 24
        }
      ]
    },
    {
      "cell_type": "markdown",
      "source": [
        "###Fixed size sliding window problem\n",
        "\n",
        "\n",
        "\n",
        "\n",
        "\n",
        "\n",
        "\n",
        "\n",
        "\n"
      ],
      "metadata": {
        "id": "NLhyilSAbmpy"
      }
    },
    {
      "cell_type": "code",
      "source": [
        "nums=[1,2,3,4,5,6,7]\n",
        "k=4\n",
        "def F_size_slidingwindow(nums,k):\n",
        "  n=len(nums)\n",
        "  curr_sum=0\n",
        "\n",
        "  for i in range(k):\n",
        "    curr_sum+= nums[i]\n",
        "\n",
        "  max_avg=curr_sum /k\n",
        "\n",
        "  for i in range(k,n):\n",
        "    curr_sum += nums[i]\n",
        "    curr_sum -=nums[i-k]\n",
        "\n",
        "    avg=curr_sum /k\n",
        "    max_avg=max(max_avg,avg)\n",
        "\n",
        "  return max_avg\n",
        "\n",
        "print(F_size_slidingwindow(nums,k))\n",
        "\n",
        "\n"
      ],
      "metadata": {
        "colab": {
          "base_uri": "https://localhost:8080/"
        },
        "id": "g7oit-fib0Gk",
        "outputId": "e39adea3-5528-4af8-90be-1d6266c6dc7b"
      },
      "execution_count": null,
      "outputs": [
        {
          "output_type": "stream",
          "name": "stdout",
          "text": [
            "5.5\n"
          ]
        }
      ]
    },
    {
      "cell_type": "code",
      "source": [
        "k"
      ],
      "metadata": {
        "colab": {
          "base_uri": "https://localhost:8080/"
        },
        "id": "Oi-eAy21ed1y",
        "outputId": "221c8e6e-ca4d-4d88-fb11-58bfa4803d6f"
      },
      "execution_count": null,
      "outputs": [
        {
          "output_type": "execute_result",
          "data": {
            "text/plain": [
              "4"
            ]
          },
          "metadata": {},
          "execution_count": 33
        }
      ]
    },
    {
      "cell_type": "code",
      "source": [],
      "metadata": {
        "id": "iZSn_SLTedur"
      },
      "execution_count": null,
      "outputs": []
    }
  ]
}