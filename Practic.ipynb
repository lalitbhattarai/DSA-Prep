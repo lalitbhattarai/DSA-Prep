{
  "nbformat": 4,
  "nbformat_minor": 0,
  "metadata": {
    "colab": {
      "provenance": [],
      "authorship_tag": "ABX9TyPkXFXN3EfrtuPIjnX8Kx/W",
      "include_colab_link": true
    },
    "kernelspec": {
      "name": "python3",
      "display_name": "Python 3"
    },
    "language_info": {
      "name": "python"
    }
  },
  "cells": [
    {
      "cell_type": "markdown",
      "metadata": {
        "id": "view-in-github",
        "colab_type": "text"
      },
      "source": [
        "<a href=\"https://colab.research.google.com/github/lalitbhattarai/DSA-Prep/blob/main/Practic.ipynb\" target=\"_parent\"><img src=\"https://colab.research.google.com/assets/colab-badge.svg\" alt=\"Open In Colab\"/></a>"
      ]
    },
    {
      "cell_type": "markdown",
      "source": [
        "# Binary search"
      ],
      "metadata": {
        "id": "P5D7HPEVtNiV"
      }
    },
    {
      "cell_type": "code",
      "source": [
        "arr=[1,2,3,4,5,6,7,8,9,0]"
      ],
      "metadata": {
        "id": "JzNX_rCWtcWP"
      },
      "execution_count": 2,
      "outputs": []
    },
    {
      "cell_type": "code",
      "source": [
        "def Binary_search(arr,target):\n",
        "  n=len(arr)\n",
        "  r=n-1\n",
        "  l=0\n",
        "\n",
        "  while l<r :\n",
        "\n",
        "    mid=l+(r-l) //2\n",
        "    if mid==target:\n",
        "      return mid\n",
        "\n",
        "    elif mid <target:\n",
        "      l=mid-1\n",
        "\n",
        "    else :\n",
        "      r=mid +1\n",
        "\n",
        "  return False\n",
        "\n",
        "print(Binary_search(arr,target=2))"
      ],
      "metadata": {
        "colab": {
          "base_uri": "https://localhost:8080/"
        },
        "id": "n2ZsPDmmtk4w",
        "outputId": "bbbefcea-81ad-4a19-e9de-1254a9869685"
      },
      "execution_count": 3,
      "outputs": [
        {
          "output_type": "stream",
          "name": "stdout",
          "text": [
            "2\n"
          ]
        }
      ]
    },
    {
      "cell_type": "markdown",
      "source": [
        "# Merge Sort"
      ],
      "metadata": {
        "id": "fH-zMyUJvG5N"
      }
    },
    {
      "cell_type": "code",
      "source": [],
      "metadata": {
        "id": "Wp4L4-4SvK9O"
      },
      "execution_count": null,
      "outputs": []
    }
  ]
}