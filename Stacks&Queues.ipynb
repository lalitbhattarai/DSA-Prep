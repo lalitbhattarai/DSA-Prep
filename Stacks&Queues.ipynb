{
  "nbformat": 4,
  "nbformat_minor": 0,
  "metadata": {
    "colab": {
      "provenance": [],
      "authorship_tag": "ABX9TyNQPQyIzipcFie0PYEFehsJ",
      "include_colab_link": true
    },
    "kernelspec": {
      "name": "python3",
      "display_name": "Python 3"
    },
    "language_info": {
      "name": "python"
    }
  },
  "cells": [
    {
      "cell_type": "markdown",
      "metadata": {
        "id": "view-in-github",
        "colab_type": "text"
      },
      "source": [
        "<a href=\"https://colab.research.google.com/github/lalitbhattarai/DSA-Prep/blob/main/Stacks%26Queues.ipynb\" target=\"_parent\"><img src=\"https://colab.research.google.com/assets/colab-badge.svg\" alt=\"Open In Colab\"/></a>"
      ]
    },
    {
      "cell_type": "markdown",
      "source": [
        "### STACKS\n",
        "* LIFO(Last In First Out)"
      ],
      "metadata": {
        "id": "1n8hsfeOHleP"
      }
    },
    {
      "cell_type": "code",
      "execution_count": 26,
      "metadata": {
        "id": "9LNb3lPyFJuS"
      },
      "outputs": [],
      "source": [
        "a=[5,6,7,5,4]"
      ]
    },
    {
      "cell_type": "code",
      "source": [
        "#appending an element in the end of the array(Dynamic)O(1)\n",
        "a.append(7)"
      ],
      "metadata": {
        "id": "uQgyq7G9FMoA"
      },
      "execution_count": 3,
      "outputs": []
    },
    {
      "cell_type": "code",
      "source": [
        "#After adding 7 in the array a\n",
        "a\n"
      ],
      "metadata": {
        "colab": {
          "base_uri": "https://localhost:8080/"
        },
        "id": "33MPkCojF8sv",
        "outputId": "fd3581f5-4cc0-42d9-c3cf-828bb3cb5b89"
      },
      "execution_count": 4,
      "outputs": [
        {
          "output_type": "execute_result",
          "data": {
            "text/plain": [
              "[5, 6, 7, 5, 4, 7]"
            ]
          },
          "metadata": {},
          "execution_count": 4
        }
      ]
    },
    {
      "cell_type": "code",
      "source": [
        "#Pop operation (deleting and element from -1 position in array)O(1)\n",
        "x=a.pop()\n",
        "print(a,x)"
      ],
      "metadata": {
        "colab": {
          "base_uri": "https://localhost:8080/"
        },
        "id": "xC5JxXwqGLto",
        "outputId": "617ed3ed-681c-4844-8513-5b3a68876829"
      },
      "execution_count": 27,
      "outputs": [
        {
          "output_type": "stream",
          "name": "stdout",
          "text": [
            "[5, 6, 7, 5] 4\n"
          ]
        }
      ]
    },
    {
      "cell_type": "code",
      "source": [
        "#After poping element form the end point\n",
        "a"
      ],
      "metadata": {
        "colab": {
          "base_uri": "https://localhost:8080/"
        },
        "id": "1OoE_wMrGUUD",
        "outputId": "b4717d78-f884-493d-de7c-697ada7e0b92"
      },
      "execution_count": 6,
      "outputs": [
        {
          "output_type": "execute_result",
          "data": {
            "text/plain": [
              "[5, 6, 7, 5, 4]"
            ]
          },
          "metadata": {},
          "execution_count": 6
        }
      ]
    },
    {
      "cell_type": "code",
      "source": [
        "#Pek that is lloking an element in an array  Time:O(1)\n",
        "\n",
        "a[2] #element at the second place is 7"
      ],
      "metadata": {
        "colab": {
          "base_uri": "https://localhost:8080/"
        },
        "id": "o7TKZFzAGers",
        "outputId": "92d53505-50f1-4ad4-de55-c31f89ddb721"
      },
      "execution_count": 14,
      "outputs": [
        {
          "output_type": "execute_result",
          "data": {
            "text/plain": [
              "7"
            ]
          },
          "metadata": {},
          "execution_count": 14
        }
      ]
    },
    {
      "cell_type": "code",
      "source": [
        "#Checking if the stack is empty or not Time:O(1)\n",
        "a.isempty"
      ],
      "metadata": {
        "id": "njMhbI1DGzg1"
      },
      "execution_count": null,
      "outputs": []
    },
    {
      "cell_type": "markdown",
      "source": [
        "### QUEUES\n",
        "\n",
        "* queus are opposite to the stack .they work on FIFO concepts"
      ],
      "metadata": {
        "id": "HwIU7WzsHikT"
      }
    },
    {
      "cell_type": "code",
      "source": [
        "from collections import deque\n",
        "#Enqueue Time:O(n)\n",
        "b=deque()\n",
        "print(b)"
      ],
      "metadata": {
        "colab": {
          "base_uri": "https://localhost:8080/"
        },
        "id": "92_HCY1SH1km",
        "outputId": "d421c3e7-c770-4abf-9fe2-f7228e3cfa98"
      },
      "execution_count": 39,
      "outputs": [
        {
          "output_type": "stream",
          "name": "stdout",
          "text": [
            "deque([])\n"
          ]
        }
      ]
    },
    {
      "cell_type": "code",
      "source": [
        "#Enqueue _Add element to the right -O(1)\n",
        "b.append(2)\n",
        "b.append(3)\n",
        "b.append(4)\n",
        "b.append(5)\n",
        "b\n"
      ],
      "metadata": {
        "colab": {
          "base_uri": "https://localhost:8080/"
        },
        "id": "y4Zudvs9JGbJ",
        "outputId": "11ee7f11-1b24-4186-fa78-b00dff88d9b5"
      },
      "execution_count": 40,
      "outputs": [
        {
          "output_type": "execute_result",
          "data": {
            "text/plain": [
              "deque([2, 3, 4, 5])"
            ]
          },
          "metadata": {},
          "execution_count": 40
        }
      ]
    },
    {
      "cell_type": "code",
      "source": [
        "#Dequeue (pop left) -Reomve element from the left -O(1)\n",
        "b.popleft()"
      ],
      "metadata": {
        "colab": {
          "base_uri": "https://localhost:8080/"
        },
        "id": "V2UY4FIdM0AO",
        "outputId": "45f1ec2b-0797-4602-eb2d-5612b28ccc03"
      },
      "execution_count": 41,
      "outputs": [
        {
          "output_type": "execute_result",
          "data": {
            "text/plain": [
              "2"
            ]
          },
          "metadata": {},
          "execution_count": 41
        }
      ]
    },
    {
      "cell_type": "code",
      "source": [
        "#Peek at the left element in an array\n",
        "b[0]"
      ],
      "metadata": {
        "colab": {
          "base_uri": "https://localhost:8080/"
        },
        "id": "HSLf-LtdNDJZ",
        "outputId": "43d7ee02-246e-48b2-c54d-d32dcd8fddc6"
      },
      "execution_count": 42,
      "outputs": [
        {
          "output_type": "execute_result",
          "data": {
            "text/plain": [
              "3"
            ]
          },
          "metadata": {},
          "execution_count": 42
        }
      ]
    },
    {
      "cell_type": "code",
      "source": [
        "b[-1]"
      ],
      "metadata": {
        "colab": {
          "base_uri": "https://localhost:8080/"
        },
        "id": "k-vL3-PVNM6J",
        "outputId": "3d442543-a41f-4566-e5ed-0cce722449b2"
      },
      "execution_count": 43,
      "outputs": [
        {
          "output_type": "execute_result",
          "data": {
            "text/plain": [
              "5"
            ]
          },
          "metadata": {},
          "execution_count": 43
        }
      ]
    },
    {
      "cell_type": "code",
      "source": [
        "b"
      ],
      "metadata": {
        "colab": {
          "base_uri": "https://localhost:8080/"
        },
        "id": "pUUDD4qRNRm0",
        "outputId": "5c365177-0254-422a-c0ff-c0abe7483fa9"
      },
      "execution_count": 44,
      "outputs": [
        {
          "output_type": "execute_result",
          "data": {
            "text/plain": [
              "deque([3, 4, 5])"
            ]
          },
          "metadata": {},
          "execution_count": 44
        }
      ]
    },
    {
      "cell_type": "markdown",
      "source": [
        "#Problems"
      ],
      "metadata": {
        "id": "D4_N-uu3N-SY"
      }
    },
    {
      "cell_type": "markdown",
      "source": [
        "\n",
        "Leetcode valid paranthesis (20)"
      ],
      "metadata": {
        "id": "bWG2QMP4OBtw"
      }
    },
    {
      "cell_type": "code",
      "source": [
        "#We are going to doi withiut using the class\n",
        "\n",
        "s=\"([])\"\n",
        "\n",
        "def invalid(s)->bool:\n",
        "  hashmap={')':'(' ,'}':'{',']':'['}\n",
        "  stk=[]\n",
        "\n",
        "  for c in s:\n",
        "    if c not in hashmap:\n",
        "      stk.append(c)\n",
        "    else:\n",
        "      popped=stk.pop()\n",
        "      if popped !=hashmap[c]:\n",
        "        return False\n",
        "\n",
        "  return not stk\n",
        "\n",
        "invalid(s)\n"
      ],
      "metadata": {
        "colab": {
          "base_uri": "https://localhost:8080/"
        },
        "id": "gwiaIb7uONlj",
        "outputId": "b7668206-5eab-4a53-8fc2-aecc79a67cc5"
      },
      "execution_count": 55,
      "outputs": [
        {
          "output_type": "execute_result",
          "data": {
            "text/plain": [
              "True"
            ]
          },
          "metadata": {},
          "execution_count": 55
        }
      ]
    },
    {
      "cell_type": "code",
      "source": [
        "#This is morev optimal solution in this case its takes less time for executions\n",
        "s=\"{({})}\"\n",
        "class Solution:\n",
        "    def isValid(self, s: str) -> bool:\n",
        "        paren_dict = {\"(\":\")\", \"{\":\"}\", \"[\":\"]\"}\n",
        "        seen_stack = []\n",
        "        for p in s:\n",
        "            if p in paren_dict:\n",
        "                seen_stack.append(p)\n",
        "            else:\n",
        "                if seen_stack and paren_dict[seen_stack[-1]] == p:\n",
        "                    seen_stack.pop()\n",
        "                else:\n",
        "                    return False\n",
        "        if len(seen_stack) == 0:\n",
        "            return True\n",
        "        return False\n",
        ""
      ],
      "metadata": {
        "id": "lrws0tbAUTFC"
      },
      "execution_count": 63,
      "outputs": []
    }
  ]
}