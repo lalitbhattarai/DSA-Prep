{
  "nbformat": 4,
  "nbformat_minor": 0,
  "metadata": {
    "colab": {
      "provenance": [],
      "authorship_tag": "ABX9TyOTGQbSyODfOrTRtJsa4IDB",
      "include_colab_link": true
    },
    "kernelspec": {
      "name": "python3",
      "display_name": "Python 3"
    },
    "language_info": {
      "name": "python"
    }
  },
  "cells": [
    {
      "cell_type": "markdown",
      "metadata": {
        "id": "view-in-github",
        "colab_type": "text"
      },
      "source": [
        "<a href=\"https://colab.research.google.com/github/lalitbhattarai/DSA-Prep/blob/main/Recursion.ipynb\" target=\"_parent\"><img src=\"https://colab.research.google.com/assets/colab-badge.svg\" alt=\"Open In Colab\"/></a>"
      ]
    },
    {
      "cell_type": "markdown",
      "source": [
        "## Three steps of the resursion are:\n",
        "1. Divide big problrm into simple and small problems\n",
        "2.  Find the base condition with simple answer\n",
        "3. Return or roll back all answer for base condition to solve all sub problems\n"
      ],
      "metadata": {
        "id": "6p4nIylIMPip"
      }
    },
    {
      "cell_type": "code",
      "source": [
        "def sum_first_n(n):\n",
        "    if n == 1:  # Base case: when n is 1, return 1\n",
        "        return 1\n",
        "    return n + sum_first_n(n - 1)  # Recursive case: add n to the sum of (n-1) numbers\n",
        "\n",
        "# Call the function with n = 5\n",
        "result = sum_first_n(6)\n",
        "print(\"The sum of the first five numbers is:\", result)\n"
      ],
      "metadata": {
        "colab": {
          "base_uri": "https://localhost:8080/"
        },
        "id": "0JbnKtPLOqfH",
        "outputId": "667b4c5f-54e4-4359-a1ed-c28b5a060294"
      },
      "execution_count": null,
      "outputs": [
        {
          "output_type": "stream",
          "name": "stdout",
          "text": [
            "The sum of the first five numbers is: 21\n"
          ]
        }
      ]
    },
    {
      "cell_type": "code",
      "source": [
        "#Resursion in Fibonacci series number Time: O(2^n) This is not effective time for doing this os we  use DP for this which is o(n) time complexity\n",
        "def fibn(n):\n",
        "  if n==0 or n==1:\n",
        "    return n\n",
        "  return fibn(n-1) +fibn(n-2)   #  in here\n",
        "\n",
        "result=fibn(10)\n",
        "print(result)\n"
      ],
      "metadata": {
        "colab": {
          "base_uri": "https://localhost:8080/"
        },
        "id": "bZdNSljtPNsj",
        "outputId": "39e261c4-9a01-4381-a53b-de9e67581c47"
      },
      "execution_count": null,
      "outputs": [
        {
          "output_type": "stream",
          "name": "stdout",
          "text": [
            "55\n"
          ]
        }
      ]
    },
    {
      "cell_type": "markdown",
      "source": [
        "## Practic questions\n"
      ],
      "metadata": {
        "id": "tPlqjSBMSSJJ"
      }
    },
    {
      "cell_type": "markdown",
      "source": [
        "1. Write a Python program to get the factorial of a non-negative integer using recursion."
      ],
      "metadata": {
        "id": "-mAlDHJQXv5j"
      }
    },
    {
      "cell_type": "code",
      "source": [
        "def num_pos(n): # define a function and pass the value n\n",
        "\n",
        "  if n==0 or n==1: #This is a base case where if the number is 0and 1 :\n",
        "    return n  # this return the same number as base case\n",
        "\n",
        "  return n * num_pos(n-1) #This is resursive function call\n",
        "\n",
        "result=num_pos(5)\n",
        "print(result) # Printing the reasult"
      ],
      "metadata": {
        "id": "osxzYLbKX1yD"
      },
      "execution_count": null,
      "outputs": []
    },
    {
      "cell_type": "markdown",
      "source": [
        "2.  Write a Python program to calculate the value of 'a' to the power of 'b' using recursion"
      ],
      "metadata": {
        "id": "3IRlt8ABcHOe"
      }
    },
    {
      "cell_type": "code",
      "source": [
        "def power(a,b): # we need two values for this operations so a is the base value and b is the poewr of the value\n",
        "  if b==0: # this is a base kind of both means that if anything power 0 is zero\n",
        "    return 0\n",
        "\n",
        "  elif b==1:#anything power 1 is 1\n",
        "    return a\n",
        "  else:\n",
        "    return a * power(a,b-1)\n",
        "result=power(3,3)\n",
        "print(result)"
      ],
      "metadata": {
        "id": "DGWiSgu1ekHX",
        "colab": {
          "base_uri": "https://localhost:8080/"
        },
        "outputId": "690d6aee-942e-4146-fe46-adb4ff6165ba"
      },
      "execution_count": 4,
      "outputs": [
        {
          "output_type": "stream",
          "name": "stdout",
          "text": [
            "81\n"
          ]
        }
      ]
    },
    {
      "cell_type": "markdown",
      "source": [
        "3.  Write a Python program to find the greatest common divisor (GCD) of two integers using recursion.\n"
      ],
      "metadata": {
        "id": "jHcPcjg0hT1z"
      }
    },
    {
      "cell_type": "code",
      "source": [
        "# Define a function named Recurgcd that calculates the greatest common divisor (GCD)\n",
        "# of two numbers 'a' and 'b' using recursion and the Euclidean algorithm\n",
        "def Recurgcd(a, b):\n",
        "    # Determine the lower and higher values between 'a' and 'b'\n",
        "    low = min(a, b)\n",
        "    high = max(a, b)\n",
        "\n",
        "    # Check if the lower value is 0 (base case for GCD calculation)\n",
        "    if low == 0:\n",
        "        # If the lower value is 0, return the higher value (GCD is the non-zero value)\n",
        "        return high\n",
        "    # Check if the lower value is 1 (base case for GCD calculation)\n",
        "    elif low == 1:\n",
        "        # If the lower value is 1, return 1 (GCD of any number with 1 is 1)\n",
        "        return 1\n",
        "    else:\n",
        "        # If neither base case is met, recursively call the Recurgcd function\n",
        "        # with the lower value and the remainder of the higher value divided by the lower value\n",
        "        return Recurgcd(low, high % low)\n",
        "\n",
        "# Print the result of calling the Recurgcd function with the input values 12 and 14\n",
        "print(Recurgcd(12, 14))"
      ],
      "metadata": {
        "colab": {
          "base_uri": "https://localhost:8080/"
        },
        "id": "stJsnvP-hWTz",
        "outputId": "a940a1e4-1695-4c4d-dbe5-a576e235cb9c"
      },
      "execution_count": 5,
      "outputs": [
        {
          "output_type": "stream",
          "name": "stdout",
          "text": [
            "2\n"
          ]
        }
      ]
    },
    {
      "cell_type": "markdown",
      "source": [
        "### LeetCode  Problem"
      ],
      "metadata": {
        "id": "HCg-DJ71kwq0"
      }
    },
    {
      "cell_type": "code",
      "source": [
        "#Leet code 509\n",
        "n=2\n",
        "class solution:\n",
        "  def fib(self,n:int)->int:\n",
        "    if n==0 or n==1:\n",
        "      return 0\n",
        "    return self.fin(n-1) +self. fib(n-2)\n",
        "\n"
      ],
      "metadata": {
        "id": "v2cnuEeJkPc8"
      },
      "execution_count": 1,
      "outputs": []
    },
    {
      "cell_type": "code",
      "source": [],
      "metadata": {
        "id": "f8WerR7uk2kN"
      },
      "execution_count": null,
      "outputs": []
    }
  ]
}