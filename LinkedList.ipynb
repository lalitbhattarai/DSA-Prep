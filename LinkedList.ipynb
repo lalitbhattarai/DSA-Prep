{
  "nbformat": 4,
  "nbformat_minor": 0,
  "metadata": {
    "colab": {
      "provenance": [],
      "authorship_tag": "ABX9TyNuUC19HMFYiXIqe80Sx1Pv",
      "include_colab_link": true
    },
    "kernelspec": {
      "name": "python3",
      "display_name": "Python 3"
    },
    "language_info": {
      "name": "python"
    }
  },
  "cells": [
    {
      "cell_type": "markdown",
      "metadata": {
        "id": "view-in-github",
        "colab_type": "text"
      },
      "source": [
        "<a href=\"https://colab.research.google.com/github/lalitbhattarai/DSA-Prep/blob/main/LinkedList.ipynb\" target=\"_parent\"><img src=\"https://colab.research.google.com/assets/colab-badge.svg\" alt=\"Open In Colab\"/></a>"
      ]
    },
    {
      "cell_type": "markdown",
      "source": [
        "# `** SINGLY LINKED LIST**`\n",
        "\n",
        "---\n",
        "\n",
        "\n",
        "\n",
        "---\n",
        "\n"
      ],
      "metadata": {
        "id": "zTz9wLKQLFeC"
      }
    },
    {
      "cell_type": "code",
      "source": [
        "#Singly Linked list\n",
        "class singlyNode:\n",
        "  def __init__(self, val,next=None):\n",
        "    self.val=val\n",
        "    self.next=next\n",
        "\n",
        "  def __str__(self):\n",
        "    return str(self.val)\n",
        "\n",
        "\n"
      ],
      "metadata": {
        "id": "yO42LGkWLYBk"
      },
      "execution_count": 33,
      "outputs": []
    },
    {
      "cell_type": "code",
      "source": [
        "#puttnh the value in the linked list\n",
        "\n",
        "head=singlyNode(1)\n",
        "A=singlyNode(2)\n",
        "B=singlyNode(3)\n",
        "C=singlyNode(4)\n",
        "head.next=A\n",
        "A.next=B\n",
        "B.next=C\n",
        "\n",
        "print(head)"
      ],
      "metadata": {
        "colab": {
          "base_uri": "https://localhost:8080/"
        },
        "id": "d9wmSmqONm0j",
        "outputId": "888213ce-746d-4de5-dcf0-2aac9d1eead0"
      },
      "execution_count": 34,
      "outputs": [
        {
          "output_type": "stream",
          "name": "stdout",
          "text": [
            "1\n"
          ]
        }
      ]
    },
    {
      "cell_type": "code",
      "source": [
        "#traverse the linked list\n",
        "curr=head\n",
        "while curr:\n",
        "  print(curr)\n",
        "  curr=curr.next"
      ],
      "metadata": {
        "colab": {
          "base_uri": "https://localhost:8080/"
        },
        "id": "2gtf5OYYOXWJ",
        "outputId": "b5b1df33-479a-4c8a-a6bb-b796e34c0f5a"
      },
      "execution_count": 35,
      "outputs": [
        {
          "output_type": "stream",
          "name": "stdout",
          "text": [
            "1\n",
            "2\n",
            "3\n",
            "4\n"
          ]
        }
      ]
    },
    {
      "cell_type": "code",
      "source": [
        "#Display the linked list --O(n)\n",
        "def display(head):\n",
        "  curr = head\n",
        "  element = []\n",
        "  while curr:\n",
        "    element.append(str(curr.val))  # Collect node values\n",
        "    curr = curr.next  # Move to the next node\n",
        "  print(\"---->\".join(element))  # Print the linked list after collecting all values\n",
        "\n",
        "display(head)\n"
      ],
      "metadata": {
        "colab": {
          "base_uri": "https://localhost:8080/"
        },
        "id": "DTLE3U4kOuWM",
        "outputId": "ebf1d1c5-78ae-47a2-df38-67d40df96fc4"
      },
      "execution_count": 36,
      "outputs": [
        {
          "output_type": "stream",
          "name": "stdout",
          "text": [
            "1---->2---->3---->4\n"
          ]
        }
      ]
    },
    {
      "cell_type": "code",
      "source": [
        "#Searching for node value--O(n)\n",
        "def search(head,val):\n",
        "  curr=head\n",
        "  while curr:\n",
        "    if val ==curr.val:\n",
        "      return True\n",
        "    else:\n",
        "      curr=curr.next\n",
        "  return False\n",
        "\n",
        "\n",
        "search(head,4)"
      ],
      "metadata": {
        "colab": {
          "base_uri": "https://localhost:8080/"
        },
        "id": "1WnKCX9cRa6B",
        "outputId": "e2df3b20-0cf2-4091-9d7c-3120afa30003"
      },
      "execution_count": 37,
      "outputs": [
        {
          "output_type": "execute_result",
          "data": {
            "text/plain": [
              "True"
            ]
          },
          "metadata": {},
          "execution_count": 37
        }
      ]
    },
    {
      "cell_type": "markdown",
      "source": [
        "##Doubly linked list"
      ],
      "metadata": {
        "id": "sAU5NnscuiFL"
      }
    },
    {
      "cell_type": "code",
      "source": [
        "#creating  the doubly linked list\n",
        "class DoublyNode:\n",
        "  def __init__(self,val,next=None,prev=None):\n",
        "    self.val=val\n",
        "    self.next=next\n",
        "    self.prev=prev\n",
        "\n",
        "  def __str__(self):\n",
        "    return str(self.val)"
      ],
      "metadata": {
        "id": "GJi20yXCumSK"
      },
      "execution_count": 38,
      "outputs": []
    },
    {
      "cell_type": "code",
      "source": [
        "head=tail=DoublyNode(1)\n",
        "\n",
        "print(head)"
      ],
      "metadata": {
        "colab": {
          "base_uri": "https://localhost:8080/"
        },
        "id": "U7YwdUHnvD7f",
        "outputId": "557fcfde-ce7f-4690-cb42-4496d28cb885"
      },
      "execution_count": 39,
      "outputs": [
        {
          "output_type": "stream",
          "name": "stdout",
          "text": [
            "1\n"
          ]
        }
      ]
    },
    {
      "cell_type": "code",
      "source": [
        "#Display the doubly linked list\n",
        "def display(head):\n",
        "  curr=head\n",
        "  element=[]\n",
        "  while curr:\n",
        "    element.append(str(curr.val))\n",
        "    curr=curr.next\n",
        "  print(\"<--->\" .join(element))\n",
        "\n",
        "display(head)"
      ],
      "metadata": {
        "colab": {
          "base_uri": "https://localhost:8080/"
        },
        "id": "i_EYmU4uwDn_",
        "outputId": "e4449fb9-5c26-487d-ef09-b9fa317be7b2"
      },
      "execution_count": 40,
      "outputs": [
        {
          "output_type": "stream",
          "name": "stdout",
          "text": [
            "1\n"
          ]
        }
      ]
    },
    {
      "cell_type": "code",
      "source": [
        "#Insert at The Beginjing O(1)\n",
        "def insert_at_beginning(head,tail,val):\n",
        "  new_node=DoublyNode(val,next=head)\n",
        "  head.prev=new_node\n",
        "  return new_node,tail\n",
        "\n",
        "head,tail=insert_at_beginning(head,tail,3)\n",
        "display(head)"
      ],
      "metadata": {
        "colab": {
          "base_uri": "https://localhost:8080/"
        },
        "id": "gKt0LfNqxZ1z",
        "outputId": "f71754a4-b3ee-4c1b-d098-1ab0a9de4d45"
      },
      "execution_count": 41,
      "outputs": [
        {
          "output_type": "stream",
          "name": "stdout",
          "text": [
            "3<--->1\n"
          ]
        }
      ]
    },
    {
      "cell_type": "code",
      "source": [
        "#Insert at the end --O(n)\n",
        "def insert_at_beginning(head,tail,val):\n",
        "  new_node=DoublyNode(val,prev=tail)\n",
        "  tail.next=new_node\n",
        "  return new_node,tail\n",
        "\n",
        "head,tail=insert_at_beginning(head,tail,7)\n",
        "\n",
        "display(tail)"
      ],
      "metadata": {
        "colab": {
          "base_uri": "https://localhost:8080/"
        },
        "id": "ktK7qEOdycpd",
        "outputId": "148ecaa9-2c07-40b1-a0c0-a1d6682c910c"
      },
      "execution_count": 42,
      "outputs": [
        {
          "output_type": "stream",
          "name": "stdout",
          "text": [
            "1<--->7\n"
          ]
        }
      ]
    },
    {
      "cell_type": "markdown",
      "source": [
        "#Problems"
      ],
      "metadata": {
        "id": "uvkxVd3WzGCR"
      }
    },
    {
      "cell_type": "code",
      "source": [
        "head=[1,2,3,4,5,6,7]"
      ],
      "metadata": {
        "id": "I224US0xzuos"
      },
      "execution_count": 43,
      "outputs": []
    },
    {
      "cell_type": "code",
      "source": [
        "class ListNode:\n",
        "    def __init__(self, val=0, next=None):\n",
        "        self.val = val\n",
        "        self.next = next\n",
        "\n",
        "class Solution:\n",
        "    def reverseList(self, head: ListNode) -> ListNode:\n",
        "        prev = None\n",
        "        curr = head\n",
        "        while curr:\n",
        "            temp = curr.next\n",
        "            curr.next = prev\n",
        "            prev = curr\n",
        "            curr = temp\n",
        "        return prev\n",
        "\n",
        "# Helper function to print the linked list\n",
        "def printList(head):\n",
        "    curr = head\n",
        "    while curr:\n",
        "        print(curr.val, end=\" -> \")\n",
        "        curr = curr.next\n",
        "    print(\"None\")\n",
        "\n",
        "# Example usage\n",
        "head = ListNode(1, ListNode(2, ListNode(3, ListNode(4, ListNode(5)))))\n",
        "print(\"Original List:\")\n",
        "printList(head)\n",
        "\n",
        "sol = Solution()\n",
        "reversed_head = sol.reverseList(head)\n",
        "print(\"Reversed List:\")\n",
        "printList(reversed_head)\n"
      ],
      "metadata": {
        "colab": {
          "base_uri": "https://localhost:8080/"
        },
        "id": "cATAkytn02nO",
        "outputId": "df903d76-56a3-412e-9686-db18538a2959"
      },
      "execution_count": 44,
      "outputs": [
        {
          "output_type": "stream",
          "name": "stdout",
          "text": [
            "Original List:\n",
            "1 -> 2 -> 3 -> 4 -> 5 -> None\n",
            "Reversed List:\n",
            "5 -> 4 -> 3 -> 2 -> 1 -> None\n"
          ]
        }
      ]
    }
  ]
}